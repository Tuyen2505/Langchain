{
 "cells": [
  {
   "cell_type": "code",
   "execution_count": 81,
   "metadata": {},
   "outputs": [
    {
     "name": "stderr",
     "output_type": "stream",
     "text": [
      "Ignoring wrong pointing object 0 0 (offset 0)\n"
     ]
    }
   ],
   "source": [
    "from langchain.schema import Document\n",
    "from langchain_community.document_loaders import PyPDFLoader\n",
    "\n",
    "import os\n",
    "\n",
    "# Đường dẫn thư mục chứa các file PDF\n",
    "folder_path = \"D:/vscode/Langchain/rag_langchain/data_source/vietnam\"\n",
    "\n",
    "# Lấy danh sách tất cả file PDF trong thư mục\n",
    "pdf_files = [f for f in os.listdir(folder_path) if f.endswith(\".pdf\")]\n",
    "\n",
    "# Load tất cả các file PDF\n",
    "pdf_docs = []\n",
    "for pdf_file in pdf_files:\n",
    "    pdf_path = os.path.join(folder_path, pdf_file)  # Đường dẫn đầy đủ\n",
    "    loader = PyPDFLoader(pdf_path)\n",
    "    pdf_docs.extend(loader.load())  # Nối nội dung của từng file PDF vào danh sách\n"
   ]
  },
  {
   "cell_type": "code",
   "execution_count": 82,
   "metadata": {},
   "outputs": [
    {
     "data": {
      "text/plain": [
       "13"
      ]
     },
     "execution_count": 82,
     "metadata": {},
     "output_type": "execute_result"
    }
   ],
   "source": [
    "len(pdf_docs)"
   ]
  },
  {
   "cell_type": "code",
   "execution_count": 101,
   "metadata": {},
   "outputs": [],
   "source": [
    "from langchain_text_splitters import RecursiveCharacterTextSplitter\n",
    "\n",
    "chunk_size = 200\n",
    "chunk_overlap = 100\n",
    "\n",
    "splitter = RecursiveCharacterTextSplitter(\n",
    "    chunk_size=chunk_size, \n",
    "    chunk_overlap=chunk_overlap,\n",
    "    length_function=len,\n",
    "    is_separator_regex=False,\n",
    ")\n",
    "\n",
    "docs = splitter.split_documents(pdf_docs)"
   ]
  },
  {
   "cell_type": "code",
   "execution_count": 102,
   "metadata": {},
   "outputs": [
    {
     "data": {
      "text/plain": [
       "206"
      ]
     },
     "execution_count": 102,
     "metadata": {},
     "output_type": "execute_result"
    }
   ],
   "source": [
    "len(docs)"
   ]
  },
  {
   "cell_type": "code",
   "execution_count": 85,
   "metadata": {},
   "outputs": [
    {
     "data": {
      "text/plain": [
       "[Document(metadata={'producer': 'PyPDF', 'creator': 'PyPDF', 'creationdate': '', 'source': 'D:/vscode/Langchain/rag_langchain/data_source/vietnam\\\\Bài 10_ 85-92.pdf', 'total_pages': 8, 'page': 0, 'page_label': '1'}, page_content='85\\nPHÂN TÍCH THỰC TRẠNG  \\nTAI NẠN GIAO THÔNG ĐƯỜNG BỘ Ở VIỆT NAM\\nThS. Hồ Trọng Du  \\nTS. Nguyễn Văn Trạng \\nKhoa Cơ khí Động lực, Trường đại học Sư phạm Kỹ thuật TP .HCM \\nPGS.TS. Lý Hùng Anh \\nKhoa Kỹ thuật Giao thông, Trường đại học Bách khoa TP .HCM\\nTÓM TẮT:'),\n",
       " Document(metadata={'producer': 'PyPDF', 'creator': 'PyPDF', 'creationdate': '', 'source': 'D:/vscode/Langchain/rag_langchain/data_source/vietnam\\\\Bài 10_ 85-92.pdf', 'total_pages': 8, 'page': 0, 'page_label': '1'}, page_content='PGS.TS. Lý Hùng Anh \\nKhoa Kỹ thuật Giao thông, Trường đại học Bách khoa TP .HCM\\nTÓM TẮT:\\nThực trạng tai nạn giao thông ở Việt Nam trong những năm gần đầy có nhiều tiến \\ntriển tốt, số vụ tai nạn giao thông, số người chết và số người bị thương có xu hướng'),\n",
       " Document(metadata={'producer': 'PyPDF', 'creator': 'PyPDF', 'creationdate': '', 'source': 'D:/vscode/Langchain/rag_langchain/data_source/vietnam\\\\Bài 10_ 85-92.pdf', 'total_pages': 8, 'page': 0, 'page_label': '1'}, page_content='triển tốt, số vụ tai nạn giao thông, số người chết và số người bị thương có xu hướng \\ngiảm. Tuy nhiên, đây có thể là nguyên nhân do đại dịch Covid19, người dân hạn chế \\nđi lại, người dân ở các thành phố lớn trở về nông thôn nên giảm mật độ phương tiện'),\n",
       " Document(metadata={'producer': 'PyPDF', 'creator': 'PyPDF', 'creationdate': '', 'source': 'D:/vscode/Langchain/rag_langchain/data_source/vietnam\\\\Bài 10_ 85-92.pdf', 'total_pages': 8, 'page': 0, 'page_label': '1'}, page_content='đi lại, người dân ở các thành phố lớn trở về nông thôn nên giảm mật độ phương tiện \\ngiao thông; nên thu được kết quả khả quan. Các số liệu này cần được phân tích, làm \\nrõ để thấy được mức độ thảm khốc của tai nạn giao thông gây ra đối với gia đình, xã'),\n",
       " Document(metadata={'producer': 'PyPDF', 'creator': 'PyPDF', 'creationdate': '', 'source': 'D:/vscode/Langchain/rag_langchain/data_source/vietnam\\\\Bài 10_ 85-92.pdf', 'total_pages': 8, 'page': 0, 'page_label': '1'}, page_content='rõ để thấy được mức độ thảm khốc của tai nạn giao thông gây ra đối với gia đình, xã \\nhội của nước ta. Nghiên cứu này cung cấp nguồn cơ sở dữ liệu và cái nhìn tổng quan \\ntai nạn giao thông đường bộ ở Việt Nam giai đoạn 2018-2022. Đây là những thông'),\n",
       " Document(metadata={'producer': 'PyPDF', 'creator': 'PyPDF', 'creationdate': '', 'source': 'D:/vscode/Langchain/rag_langchain/data_source/vietnam\\\\Bài 10_ 85-92.pdf', 'total_pages': 8, 'page': 0, 'page_label': '1'}, page_content='tai nạn giao thông đường bộ ở Việt Nam giai đoạn 2018-2022. Đây là những thông \\ntin cần thiết để các chuyên gia đầu ngành đề xuất giải pháp giảm tai nạn giao thông, \\ngóp phần đưa giao thông đường bộ ở Việt Nam ngày càng an toàn hơn và đáp ứng tốt'),\n",
       " Document(metadata={'producer': 'PyPDF', 'creator': 'PyPDF', 'creationdate': '', 'source': 'D:/vscode/Langchain/rag_langchain/data_source/vietnam\\\\Bài 10_ 85-92.pdf', 'total_pages': 8, 'page': 0, 'page_label': '1'}, page_content='góp phần đưa giao thông đường bộ ở Việt Nam ngày càng an toàn hơn và đáp ứng tốt \\nmục tiêu 3.6 (giảm thương vong do tai nạn giao thông đường bộ) và mục tiêu 11.2 \\n(đến năm 2030 cải thiện an toàn giao thông đường bộ) [1] trong các mục tiêu phát \\ntriển bền vững của Liên hợp quốc.'),\n",
       " Document(metadata={'producer': 'PyPDF', 'creator': 'PyPDF', 'creationdate': '', 'source': 'D:/vscode/Langchain/rag_langchain/data_source/vietnam\\\\Bài 10_ 85-92.pdf', 'total_pages': 8, 'page': 0, 'page_label': '1'}, page_content='triển bền vững của Liên hợp quốc.\\nTừ khoá: tai nạn giao thông, số ca tử vong do tai nạn giao thông, giao thông \\nđường bộ, thực trạng tai nạn giao thông.\\n1. GIỚI THIỆU\\nTai nạn giao thông đường bộ là vấn đề nan giải không của riêng quốc gia nào trên'),\n",
       " Document(metadata={'producer': 'PyPDF', 'creator': 'PyPDF', 'creationdate': '', 'source': 'D:/vscode/Langchain/rag_langchain/data_source/vietnam\\\\Bài 10_ 85-92.pdf', 'total_pages': 8, 'page': 0, 'page_label': '1'}, page_content='1. GIỚI THIỆU\\nTai nạn giao thông đường bộ là vấn đề nan giải không của riêng quốc gia nào trên \\nthế giới vì khả năng gây chấn thương và gây tử vong cho người tham gia giao thông \\nrất cao. Theo Tổ chức Y tế thế giới (WHO), hàng năm có 1,3 triệu người chết và 50'),\n",
       " Document(metadata={'producer': 'PyPDF', 'creator': 'PyPDF', 'creationdate': '', 'source': 'D:/vscode/Langchain/rag_langchain/data_source/vietnam\\\\Bài 10_ 85-92.pdf', 'total_pages': 8, 'page': 0, 'page_label': '1'}, page_content='rất cao. Theo Tổ chức Y tế thế giới (WHO), hàng năm có 1,3 triệu người chết và 50 \\ntriệu người bị thương tật vĩnh viễn suốt đời vì tai nạn giao thông, trong đó 23% tử \\nvong là người điều khiển xe máy. Đa số các vụ tai nạn giao thông xảy ra chết người'),\n",
       " Document(metadata={'producer': 'PyPDF', 'creator': 'PyPDF', 'creationdate': '', 'source': 'D:/vscode/Langchain/rag_langchain/data_source/vietnam\\\\Bài 10_ 85-92.pdf', 'total_pages': 8, 'page': 0, 'page_label': '1'}, page_content='vong là người điều khiển xe máy. Đa số các vụ tai nạn giao thông xảy ra chết người \\nxảy ra phổ biến ở các nước thu nhập thấp và trung bình. Các nước nghèo có số lượng \\nô tô chiếm 1% ô tô trên thế giới nhưng tử vong do tai nạn giao thông chiếm 13%;'),\n",
       " Document(metadata={'producer': 'PyPDF', 'creator': 'PyPDF', 'creationdate': '', 'source': 'D:/vscode/Langchain/rag_langchain/data_source/vietnam\\\\Bài 10_ 85-92.pdf', 'total_pages': 8, 'page': 0, 'page_label': '1'}, page_content='ô tô chiếm 1% ô tô trên thế giới nhưng tử vong do tai nạn giao thông chiếm 13%; \\ncác nước giàu số ô tô chiếm 40% và tỉ lệ tử vong chỉ chiếm 7% [2]. Việt Nam đang \\nlà nước đang phát triển và đang hướng tới những mục tiêu phát triển bền vững. Năm'),\n",
       " Document(metadata={'producer': 'PyPDF', 'creator': 'PyPDF', 'creationdate': '', 'source': 'D:/vscode/Langchain/rag_langchain/data_source/vietnam\\\\Bài 10_ 85-92.pdf', 'total_pages': 8, 'page': 0, 'page_label': '1'}, page_content='là nước đang phát triển và đang hướng tới những mục tiêu phát triển bền vững. Năm \\n2021, Dương Minh Tuấn và các cộng sự [3] đã phân tích sự tác động của vấn đề an \\ntoàn giao thông đến 17 nhóm mục tiêu phát triển bền vững của Liên hợp quốc và'),\n",
       " Document(metadata={'producer': 'PyPDF', 'creator': 'PyPDF', 'creationdate': '', 'source': 'D:/vscode/Langchain/rag_langchain/data_source/vietnam\\\\Bài 10_ 85-92.pdf', 'total_pages': 8, 'page': 1, 'page_label': '2'}, page_content='86\\ncác quốc gia thành viên. Kết quả phân tích cho thấy có 2 mục tiêu ảnh hưởng trực \\ntiếp và nhiều mục tiêu khác có ảnh hưởng, tác động; cho thấy vấn đề an toàn giao \\nthông là một phần không thể tách rời quá trình phát triển bền vững. Năm 2011, tác'),\n",
       " Document(metadata={'producer': 'PyPDF', 'creator': 'PyPDF', 'creationdate': '', 'source': 'D:/vscode/Langchain/rag_langchain/data_source/vietnam\\\\Bài 10_ 85-92.pdf', 'total_pages': 8, 'page': 1, 'page_label': '2'}, page_content='thông là một phần không thể tách rời quá trình phát triển bền vững. Năm 2011, tác \\ngiả Trần Thị Ngọc Lan đã nghiên cứu thực trạng tử vong do tai nạn giao thông ở Việt \\nNam giai đoạn 2005-2009; kết quả cho thấy tử vong do tai nạn giao thông cao gấp'),\n",
       " Document(metadata={'producer': 'PyPDF', 'creator': 'PyPDF', 'creationdate': '', 'source': 'D:/vscode/Langchain/rag_langchain/data_source/vietnam\\\\Bài 10_ 85-92.pdf', 'total_pages': 8, 'page': 1, 'page_label': '2'}, page_content='Nam giai đoạn 2005-2009; kết quả cho thấy tử vong do tai nạn giao thông cao gấp \\n2,4 lần so với đuối nước và ngộ độc, gấp 5 lần so với tự tử [4]. Tai nạn giao thông \\ntrong những năm gần đây có xu hướng giảm nhưng các tai nạn giao thông liên quan'),\n",
       " Document(metadata={'producer': 'PyPDF', 'creator': 'PyPDF', 'creationdate': '', 'source': 'D:/vscode/Langchain/rag_langchain/data_source/vietnam\\\\Bài 10_ 85-92.pdf', 'total_pages': 8, 'page': 1, 'page_label': '2'}, page_content='trong những năm gần đây có xu hướng giảm nhưng các tai nạn giao thông liên quan \\nđến trẻ em lại tăng, đặc biệt là ở các em nam sinh trung học phổ thông [5]. Theo các \\nnghiên cứu trước đây, 80% các vụ tai nạn giao thông xảy ra có nguyên nhân chính'),\n",
       " Document(metadata={'producer': 'PyPDF', 'creator': 'PyPDF', 'creationdate': '', 'source': 'D:/vscode/Langchain/rag_langchain/data_source/vietnam\\\\Bài 10_ 85-92.pdf', 'total_pages': 8, 'page': 1, 'page_label': '2'}, page_content='nghiên cứu trước đây, 80% các vụ tai nạn giao thông xảy ra có nguyên nhân chính \\nlà do người tham gia giao thông, do sự thiếu hiểu biết về pháp luật giao thông, quy \\ntắc giao thông và văn hoá ứng xử khi tham gia giao thông [6]. Hậu quả tai nạn giao'),\n",
       " Document(metadata={'producer': 'PyPDF', 'creator': 'PyPDF', 'creationdate': '', 'source': 'D:/vscode/Langchain/rag_langchain/data_source/vietnam\\\\Bài 10_ 85-92.pdf', 'total_pages': 8, 'page': 1, 'page_label': '2'}, page_content='tắc giao thông và văn hoá ứng xử khi tham gia giao thông [6]. Hậu quả tai nạn giao \\nthông của không chỉ chấn thương, tử vong người tham gia giao thông mà còn ảnh \\nhưởng cuộc sống gia đình, 70% người bị tai nạn giao thông tại Việt Nam là trụ cột'),\n",
       " Document(metadata={'producer': 'PyPDF', 'creator': 'PyPDF', 'creationdate': '', 'source': 'D:/vscode/Langchain/rag_langchain/data_source/vietnam\\\\Bài 10_ 85-92.pdf', 'total_pages': 8, 'page': 1, 'page_label': '2'}, page_content='hưởng cuộc sống gia đình, 70% người bị tai nạn giao thông tại Việt Nam là trụ cột \\nkinh tế, đang trong độ tuổi “vàng” lao động, trong đó chủ yếu là nam giới [7]. Tai \\nnạn giao thông còn ảnh hưởng sự phát triển kinh tế đất nước, mỗi năm gây thiệt hại'),\n",
       " Document(metadata={'producer': 'PyPDF', 'creator': 'PyPDF', 'creationdate': '', 'source': 'D:/vscode/Langchain/rag_langchain/data_source/vietnam\\\\Bài 10_ 85-92.pdf', 'total_pages': 8, 'page': 1, 'page_label': '2'}, page_content='nạn giao thông còn ảnh hưởng sự phát triển kinh tế đất nước, mỗi năm gây thiệt hại \\n2,9 % GDP tương đương mỗi ngày mất 400 tỷ VND [8]. Các nghiên cứu trước đây \\nchỉ đi phân tích chuyên sâu từng khía cạnh trên lĩnh vực an toàn giao thông, bài báo'),\n",
       " Document(metadata={'producer': 'PyPDF', 'creator': 'PyPDF', 'creationdate': '', 'source': 'D:/vscode/Langchain/rag_langchain/data_source/vietnam\\\\Bài 10_ 85-92.pdf', 'total_pages': 8, 'page': 1, 'page_label': '2'}, page_content='chỉ đi phân tích chuyên sâu từng khía cạnh trên lĩnh vực an toàn giao thông, bài báo \\nnày có cái nhìn tổng quan hơn về thực trạng tai nạn giao thông ở Việt Nam.\\n2.  ĐẶC ĐIỂM TAI NẠN GIAO THÔNG ĐƯỜNG BỘ Ở VIỆT NAM\\nViệt Nam là nước đang phát triển với đặc thù giao thông đường sá chật hẹp, số'),\n",
       " Document(metadata={'producer': 'PyPDF', 'creator': 'PyPDF', 'creationdate': '', 'source': 'D:/vscode/Langchain/rag_langchain/data_source/vietnam\\\\Bài 10_ 85-92.pdf', 'total_pages': 8, 'page': 1, 'page_label': '2'}, page_content='Việt Nam là nước đang phát triển với đặc thù giao thông đường sá chật hẹp, số \\nlượng xe máy lớn kết hợp số lượng ô tô con tăng nhanh trong những năm gần đây, \\ndo công nghiệp sản xuất ô tô trong nước đang phát triển và kinh tế người dân cũng'),\n",
       " Document(metadata={'producer': 'PyPDF', 'creator': 'PyPDF', 'creationdate': '', 'source': 'D:/vscode/Langchain/rag_langchain/data_source/vietnam\\\\Bài 10_ 85-92.pdf', 'total_pages': 8, 'page': 1, 'page_label': '2'}, page_content='do công nghiệp sản xuất ô tô trong nước đang phát triển và kinh tế người dân cũng \\nphát triển nên nhu đi lại bằng ô tô tăng cao. Theo Cục Đăng kiểm Việt Nam, năm \\n2022 Việt Nam gần 5 triệu ô tô các loại đang lưu hành [9], trong đó hơn 2,4 triệu ô \\ntô con; và hơn 70 triệu xe máy đang lưu hành.'),\n",
       " Document(metadata={'producer': 'PyPDF', 'creator': 'PyPDF', 'creationdate': '', 'source': 'D:/vscode/Langchain/rag_langchain/data_source/vietnam\\\\Bài 10_ 85-92.pdf', 'total_pages': 8, 'page': 1, 'page_label': '2'}, page_content='tô con; và hơn 70 triệu xe máy đang lưu hành.\\nHình 1. Số lượng ô tô, xe máy đang lưu hành ở Việt Nam giai đoạn 2018-2022'),\n",
       " Document(metadata={'producer': 'PyPDF', 'creator': 'PyPDF', 'creationdate': '', 'source': 'D:/vscode/Langchain/rag_langchain/data_source/vietnam\\\\Bài 10_ 85-92.pdf', 'total_pages': 8, 'page': 2, 'page_label': '3'}, page_content='87\\nHình 2. Doanh số ô tô, xe máy bán ra hàng năm ở Việt Nam\\nQua đồ thị hình 1 và hình 2, cho thấy rằng bình quân mỗi năm số ô tô và xe máy \\nlưu hành tăng, ô tô tăng 442.923 chiếc/năm (chiếm 11,03%), xe máy 3.123.883 \\nchiếc/năm (chiếm 4,83%). Nhu cầu mua xe máy trong giai đoạn 2019- 2021 có xu'),\n",
       " Document(metadata={'producer': 'PyPDF', 'creator': 'PyPDF', 'creationdate': '', 'source': 'D:/vscode/Langchain/rag_langchain/data_source/vietnam\\\\Bài 10_ 85-92.pdf', 'total_pages': 8, 'page': 2, 'page_label': '3'}, page_content='chiếc/năm (chiếm 4,83%). Nhu cầu mua xe máy trong giai đoạn 2019- 2021 có xu \\nhướng giảm mạnh do ảnh hưởng đại dịch Covid19 và bắt đầu tăng trở lại sau năm \\n2021. Bình quân mỗi năm bán ra thị trường 2.967.244 chiếc/năm. Thị trường ô tô thì'),\n",
       " Document(metadata={'producer': 'PyPDF', 'creator': 'PyPDF', 'creationdate': '', 'source': 'D:/vscode/Langchain/rag_langchain/data_source/vietnam\\\\Bài 10_ 85-92.pdf', 'total_pages': 8, 'page': 2, 'page_label': '3'}, page_content='2021. Bình quân mỗi năm bán ra thị trường 2.967.244 chiếc/năm. Thị trường ô tô thì \\nbình ổn hơn, chỉ trong năm 2020 doanh số bán ra thấp nhất là 296.634 triệc chiếc, và \\nbình quân mỗi năm bán 372.654 (chiếc). Do điều kiện kinh tế phát triển, nhu cầu đi'),\n",
       " Document(metadata={'producer': 'PyPDF', 'creator': 'PyPDF', 'creationdate': '', 'source': 'D:/vscode/Langchain/rag_langchain/data_source/vietnam\\\\Bài 10_ 85-92.pdf', 'total_pages': 8, 'page': 2, 'page_label': '3'}, page_content='bình quân mỗi năm bán 372.654 (chiếc). Do điều kiện kinh tế phát triển, nhu cầu đi \\nlại và vận chuyển hàng hoá bằng ô tô tăng cao; số lượng ô tô, xe máy đăng ký mới \\nchưa được kiểm soát tốt nên dẫn đến mật độ giao thông lớn tăng nguy cơ tai nạn'),\n",
       " Document(metadata={'producer': 'PyPDF', 'creator': 'PyPDF', 'creationdate': '', 'source': 'D:/vscode/Langchain/rag_langchain/data_source/vietnam\\\\Bài 10_ 85-92.pdf', 'total_pages': 8, 'page': 2, 'page_label': '3'}, page_content='chưa được kiểm soát tốt nên dẫn đến mật độ giao thông lớn tăng nguy cơ tai nạn \\ngiao thông. Trong tất cả các vụ tai nạn giao thông đường bộ, nguyên nhân do xe máy \\ngây ra chiếm tỉ lệ cao 57, 41%, ô tô 35,25%; phương tiện khác 7,31% (năm 2021)'),\n",
       " Document(metadata={'producer': 'PyPDF', 'creator': 'PyPDF', 'creationdate': '', 'source': 'D:/vscode/Langchain/rag_langchain/data_source/vietnam\\\\Bài 10_ 85-92.pdf', 'total_pages': 8, 'page': 2, 'page_label': '3'}, page_content='gây ra chiếm tỉ lệ cao 57, 41%, ô tô 35,25%; phương tiện khác 7,31% (năm 2021) \\n[10]. Theo Cục Cảnh sát Giao thông thống kê năm 2017 [11], tuyến đường tai nạn \\ngiao thông chiếm tỉ lệ cao là các tuyến đường nội thị, sau đó là tuyến quốc lộ và tỉnh'),\n",
       " Document(metadata={'producer': 'PyPDF', 'creator': 'PyPDF', 'creationdate': '', 'source': 'D:/vscode/Langchain/rag_langchain/data_source/vietnam\\\\Bài 10_ 85-92.pdf', 'total_pages': 8, 'page': 2, 'page_label': '3'}, page_content='giao thông chiếm tỉ lệ cao là các tuyến đường nội thị, sau đó là tuyến quốc lộ và tỉnh \\nlộ. Giới tính của người bị tai nạn giao thông nam giới vẫn chiếm phần lớn 89,8%. \\nĐộ tuổi người bị tai nạn giao thông từ 27 đến 55 và từ 18 đến 27 chiếm tỉ lệ cao và'),\n",
       " Document(metadata={'producer': 'PyPDF', 'creator': 'PyPDF', 'creationdate': '', 'source': 'D:/vscode/Langchain/rag_langchain/data_source/vietnam\\\\Bài 10_ 85-92.pdf', 'total_pages': 8, 'page': 2, 'page_label': '3'}, page_content='Độ tuổi người bị tai nạn giao thông từ 27 đến 55 và từ 18 đến 27 chiếm tỉ lệ cao và \\nkhoảng thời gian từ 12h - 18h và 18h - 24h là thời điểm tai nạn giao thông xảy ra ở \\nmức cao nhất.\\n3. NGUYÊN NHÂN CHÍNH GÂY RA TAI NẠN GIAO THÔNG'),\n",
       " Document(metadata={'producer': 'PyPDF', 'creator': 'PyPDF', 'creationdate': '', 'source': 'D:/vscode/Langchain/rag_langchain/data_source/vietnam\\\\Bài 10_ 85-92.pdf', 'total_pages': 8, 'page': 2, 'page_label': '3'}, page_content='mức cao nhất.\\n3. NGUYÊN NHÂN CHÍNH GÂY RA TAI NẠN GIAO THÔNG\\nNgười tham gia giao thông ý thức còn kém, ít hiểu biết về pháp luật, sử dụng chất \\nma túy, rượu, bia tham gia giao thông, chạy xe quá tốc độ cho phép, phóng nhanh'),\n",
       " Document(metadata={'producer': 'PyPDF', 'creator': 'PyPDF', 'creationdate': '', 'source': 'D:/vscode/Langchain/rag_langchain/data_source/vietnam\\\\Bài 10_ 85-92.pdf', 'total_pages': 8, 'page': 2, 'page_label': '3'}, page_content='ma túy, rượu, bia tham gia giao thông, chạy xe quá tốc độ cho phép, phóng nhanh \\nvượt ẩu, đây cũng là một trong những điểm đặc thù, thuộc văn hoá giao thông của'),\n",
       " Document(metadata={'producer': 'PyPDF', 'creator': 'PyPDF', 'creationdate': '', 'source': 'D:/vscode/Langchain/rag_langchain/data_source/vietnam\\\\Bài 10_ 85-92.pdf', 'total_pages': 8, 'page': 3, 'page_label': '4'}, page_content='88\\nngười Việt Nam. Người điều khiển phương tiện giao thông là nguyên nhân chính gây \\nra tai nạn giao thông đường bộ chiếm 43,53%, những nguyên nhân thuộc phương \\ntiện giao thông chiếm 0,27% và công trình giao thông chiếm 0,24% [10] như hình 3.'),\n",
       " Document(metadata={'producer': 'PyPDF', 'creator': 'PyPDF', 'creationdate': '', 'source': 'D:/vscode/Langchain/rag_langchain/data_source/vietnam\\\\Bài 10_ 85-92.pdf', 'total_pages': 8, 'page': 3, 'page_label': '4'}, page_content='tiện giao thông chiếm 0,27% và công trình giao thông chiếm 0,24% [10] như hình 3.\\nHình 3. Nguyên nhân gây nên tai nạn giao thông đường bộ năm 2021\\n4. THỰC TRẠNG TAI NẠN GIAO THÔNG\\nThực trạng tai nạn giao thông được thể hiện qua các số liệu: số vụ va chạm giao'),\n",
       " Document(metadata={'producer': 'PyPDF', 'creator': 'PyPDF', 'creationdate': '', 'source': 'D:/vscode/Langchain/rag_langchain/data_source/vietnam\\\\Bài 10_ 85-92.pdf', 'total_pages': 8, 'page': 3, 'page_label': '4'}, page_content='Thực trạng tai nạn giao thông được thể hiện qua các số liệu: số vụ va chạm giao \\nthông, số vụ tai nạn giao thông, số lượng người chết và số lượng người bị thương \\ngây ra. Theo Tổng Cục thống kê Việt Nam từ năm 2018 đến hết 2022 tai nạn giao'),\n",
       " Document(metadata={'producer': 'PyPDF', 'creator': 'PyPDF', 'creationdate': '', 'source': 'D:/vscode/Langchain/rag_langchain/data_source/vietnam\\\\Bài 10_ 85-92.pdf', 'total_pages': 8, 'page': 3, 'page_label': '4'}, page_content='gây ra. Theo Tổng Cục thống kê Việt Nam từ năm 2018 đến hết 2022 tai nạn giao \\nthông giảm về mọi tiêu chí, do cuối năm 2019 tình hình Covid-19 diễn ra phức tạp, \\nthực hiện Chỉ thị số 16/CT-TTg của Thủ tướng Chính phủ về giãn cách xã hội để'),\n",
       " Document(metadata={'producer': 'PyPDF', 'creator': 'PyPDF', 'creationdate': '', 'source': 'D:/vscode/Langchain/rag_langchain/data_source/vietnam\\\\Bài 10_ 85-92.pdf', 'total_pages': 8, 'page': 3, 'page_label': '4'}, page_content='thực hiện Chỉ thị số 16/CT-TTg của Thủ tướng Chính phủ về giãn cách xã hội để \\nphòng chống dịch, nên các phương tiện đường bộ bị hạn chế đi lại, đây là nguyên \\nnhân chính để đạt được kết quả trên. Bình quân mỗi năm có 17.000 vụ tai nạn giao'),\n",
       " Document(metadata={'producer': 'PyPDF', 'creator': 'PyPDF', 'creationdate': '', 'source': 'D:/vscode/Langchain/rag_langchain/data_source/vietnam\\\\Bài 10_ 85-92.pdf', 'total_pages': 8, 'page': 3, 'page_label': '4'}, page_content='nhân chính để đạt được kết quả trên. Bình quân mỗi năm có 17.000 vụ tai nạn giao \\nthông, 8.190 người chết và 15.096 người bị thương như hình 3 [12].\\nHình 4. Thống kê tai nạn giao thông ở Việt Nam giai đoạn 2018-2022'),\n",
       " Document(metadata={'producer': 'PyPDF', 'creator': 'PyPDF', 'creationdate': '', 'source': 'D:/vscode/Langchain/rag_langchain/data_source/vietnam\\\\Bài 10_ 85-92.pdf', 'total_pages': 8, 'page': 4, 'page_label': '5'}, page_content='89\\nTai nạn giao thông ở các thành phố lớn như Hà Nội và thành phố Hồ Chí Minh \\nluôn là vấn đề nan giải, bởi vì dân số đông, số phương tiện giao thông lớn và cơ \\nsở hạ tầng giao thông không đáp ứng đủ và kịp thời. Trong giai đoạn 2019-2021, ở'),\n",
       " Document(metadata={'producer': 'PyPDF', 'creator': 'PyPDF', 'creationdate': '', 'source': 'D:/vscode/Langchain/rag_langchain/data_source/vietnam\\\\Bài 10_ 85-92.pdf', 'total_pages': 8, 'page': 4, 'page_label': '5'}, page_content='sở hạ tầng giao thông không đáp ứng đủ và kịp thời. Trong giai đoạn 2019-2021, ở \\nthành phố Hồ Chí Minh và Hà Nội, tai nạn giao thông có xu hướng giảm về số vụ, \\nsố người chết và người bị thương như hình 5 và hình 6. Nguyên nhân cũng do một'),\n",
       " Document(metadata={'producer': 'PyPDF', 'creator': 'PyPDF', 'creationdate': '', 'source': 'D:/vscode/Langchain/rag_langchain/data_source/vietnam\\\\Bài 10_ 85-92.pdf', 'total_pages': 8, 'page': 4, 'page_label': '5'}, page_content='số người chết và người bị thương như hình 5 và hình 6. Nguyên nhân cũng do một \\nphần dịch Covid-19 bùng phát, người dân bị hạn chế đi lại và một lượng lớn người \\ndân rời thành thị về nông thôn. Năm 2022 cả hai thành phố này tai nạn giao thông'),\n",
       " Document(metadata={'producer': 'PyPDF', 'creator': 'PyPDF', 'creationdate': '', 'source': 'D:/vscode/Langchain/rag_langchain/data_source/vietnam\\\\Bài 10_ 85-92.pdf', 'total_pages': 8, 'page': 4, 'page_label': '5'}, page_content='dân rời thành thị về nông thôn. Năm 2022 cả hai thành phố này tai nạn giao thông \\ncó xu hướng tăng trở lại. Bình quân mỗi năm thành phố Hồ Chí Minh có 2.755 vụ \\ntai nạn giao thông (chiếm 16,2%), 602 người chết (chiếm 7,34%), 1.865 người bị'),\n",
       " Document(metadata={'producer': 'PyPDF', 'creator': 'PyPDF', 'creationdate': '', 'source': 'D:/vscode/Langchain/rag_langchain/data_source/vietnam\\\\Bài 10_ 85-92.pdf', 'total_pages': 8, 'page': 4, 'page_label': '5'}, page_content='tai nạn giao thông (chiếm 16,2%), 602 người chết (chiếm 7,34%), 1.865 người bị \\nthương (chiếm12,35%). Hà Nội mỗi năm bình quân có 1.062 vụ tai nạn giao thông \\n(chiếm 6,2%), 451 người chết (chiếm 5,5%) và 716 người bị thương (chiếm 4,74%).'),\n",
       " Document(metadata={'producer': 'PyPDF', 'creator': 'PyPDF', 'creationdate': '', 'source': 'D:/vscode/Langchain/rag_langchain/data_source/vietnam\\\\Bài 10_ 85-92.pdf', 'total_pages': 8, 'page': 4, 'page_label': '5'}, page_content='(chiếm 6,2%), 451 người chết (chiếm 5,5%) và 716 người bị thương (chiếm 4,74%).\\nHình 5. Thống kê tai nạn giao thông ở TP .HCM giai đoạn 2018-2022\\nHình 6. Thống kê tai nạn giao thông ở Hà Nội giai đoạn 2018-2022\\nSo với các thành phố lớn, thì tai nạn giao thông ở các tỉnh như Khánh Hoà và'),\n",
       " Document(metadata={'producer': 'PyPDF', 'creator': 'PyPDF', 'creationdate': '', 'source': 'D:/vscode/Langchain/rag_langchain/data_source/vietnam\\\\Bài 10_ 85-92.pdf', 'total_pages': 8, 'page': 4, 'page_label': '5'}, page_content='So với các thành phố lớn, thì tai nạn giao thông ở các tỉnh như Khánh Hoà và \\nTiền Giang, số lượng vụ tai nạn, số người chết và bị thương đều thấp hơn như hình \\n7 và hình 8. Tuy nhiên, tỉ lệ tử vong trên các vụ tai nạn lại cao hơn ở thành phố lớn,'),\n",
       " Document(metadata={'producer': 'PyPDF', 'creator': 'PyPDF', 'creationdate': '', 'source': 'D:/vscode/Langchain/rag_langchain/data_source/vietnam\\\\Bài 10_ 85-92.pdf', 'total_pages': 8, 'page': 4, 'page_label': '5'}, page_content='7 và hình 8. Tuy nhiên, tỉ lệ tử vong trên các vụ tai nạn lại cao hơn ở thành phố lớn, \\ncụ thể: Hà Nội: 42,44%, TP. Hồ Chí Minh: 21,83%, Khánh Hoà: 66,21% và Tiền'),\n",
       " Document(metadata={'producer': 'PyPDF', 'creator': 'PyPDF', 'creationdate': '', 'source': 'D:/vscode/Langchain/rag_langchain/data_source/vietnam\\\\Bài 10_ 85-92.pdf', 'total_pages': 8, 'page': 5, 'page_label': '6'}, page_content='90\\nGiang: 73,58%. Nguyên nhân chính của tỉ lệ tử vong cao ở các tỉnh là do mật độ giao \\nthông thấp, người tham gia giao thông điều khiển phương tiện vượt quá tốc độ cho \\nphép nên khi xảy ra tai nạn nguy cơ tử vong cao hơn.\\nHình 7. Thống kê tai nạn giao thông ở tỉnh Khánh Hoà giai đoạn 2018-2022'),\n",
       " Document(metadata={'producer': 'PyPDF', 'creator': 'PyPDF', 'creationdate': '', 'source': 'D:/vscode/Langchain/rag_langchain/data_source/vietnam\\\\Bài 10_ 85-92.pdf', 'total_pages': 8, 'page': 5, 'page_label': '6'}, page_content='Hình 7. Thống kê tai nạn giao thông ở tỉnh Khánh Hoà giai đoạn 2018-2022\\nHình 8. Thống kê tai nạn giao thông ở tỉnh Tiền Giang giai đoạn 2018-2022\\nSo với các nước trong khu vực Đông Nam Á, Việt Nam có tỉ lệ người chết \\ntrên 100.000 đứng thứ 2 sau Thái Lan. Năm 2019, Việt Nam có 31 người chết trên'),\n",
       " Document(metadata={'producer': 'PyPDF', 'creator': 'PyPDF', 'creationdate': '', 'source': 'D:/vscode/Langchain/rag_langchain/data_source/vietnam\\\\Bài 10_ 85-92.pdf', 'total_pages': 8, 'page': 5, 'page_label': '6'}, page_content='trên 100.000 đứng thứ 2 sau Thái Lan. Năm 2019, Việt Nam có 31 người chết trên \\n100.000 dân, trong khi đó Singapore là nước có số người chết do tai nạn giao thông \\ntrên 100.000 dân thấp nhất khu vực, 2 người như hình 9 [13]. Đây là một thực trạng'),\n",
       " Document(metadata={'producer': 'PyPDF', 'creator': 'PyPDF', 'creationdate': '', 'source': 'D:/vscode/Langchain/rag_langchain/data_source/vietnam\\\\Bài 10_ 85-92.pdf', 'total_pages': 8, 'page': 5, 'page_label': '6'}, page_content='trên 100.000 dân thấp nhất khu vực, 2 người như hình 9 [13]. Đây là một thực trạng \\nphản ánh hệ thống an toàn giao thông Việt Nam còn nhiều vấn đề cần khắc phục và \\nđiều chỉnh để giảm thiểu tỉ lệ tử vong, bảo vệ người tham gia giao thông.'),\n",
       " Document(metadata={'producer': 'PyPDF', 'creator': 'PyPDF', 'creationdate': '', 'source': 'D:/vscode/Langchain/rag_langchain/data_source/vietnam\\\\Bài 10_ 85-92.pdf', 'total_pages': 8, 'page': 6, 'page_label': '7'}, page_content='91\\nHình 9. Số lượng tử vong trên 100.000 dân của các nước Đông Nam Á năm 2019\\n5. KẾT LUẬN\\nGiao thông đường bộ ở Việt Nam có đặc thù là phương tiện cá nhân cao, mật \\nđộ lưu thông lớn ở các thành thị, ý thức của người tham gia giao thông kém nên rất'),\n",
       " Document(metadata={'producer': 'PyPDF', 'creator': 'PyPDF', 'creationdate': '', 'source': 'D:/vscode/Langchain/rag_langchain/data_source/vietnam\\\\Bài 10_ 85-92.pdf', 'total_pages': 8, 'page': 6, 'page_label': '7'}, page_content='độ lưu thông lớn ở các thành thị, ý thức của người tham gia giao thông kém nên rất \\nrễ gây nên tai nạn giao thông. Nhìn chung giai đoạn 2018-2021, tai nạn giai thông \\nđường bộ có xu hướng giảm do đại dịch Covid-19; từ năm 2022 trở đi tai nạn giao'),\n",
       " Document(metadata={'producer': 'PyPDF', 'creator': 'PyPDF', 'creationdate': '', 'source': 'D:/vscode/Langchain/rag_langchain/data_source/vietnam\\\\Bài 10_ 85-92.pdf', 'total_pages': 8, 'page': 6, 'page_label': '7'}, page_content='đường bộ có xu hướng giảm do đại dịch Covid-19; từ năm 2022 trở đi tai nạn giao \\nthông có xu hướng tăng trở lại. Tai nạn giao thông ở các thành phố lớn luôn ở cao; \\ncòn ở các tỉnh thì tai nạn giao thông ở mức thấp hơn nhưng có tỉ lệ tử vong cao. So'),\n",
       " Document(metadata={'producer': 'PyPDF', 'creator': 'PyPDF', 'creationdate': '', 'source': 'D:/vscode/Langchain/rag_langchain/data_source/vietnam\\\\Bài 10_ 85-92.pdf', 'total_pages': 8, 'page': 6, 'page_label': '7'}, page_content='còn ở các tỉnh thì tai nạn giao thông ở mức thấp hơn nhưng có tỉ lệ tử vong cao. So \\nvới các nước trong khu vực Đông Nam Á, tỉ lệ tử vong do tai nạn giao thông trên \\nnghìn dân rất cao. Hướng nghiên cứu tiếp theo của nhóm là phân tích các giải pháp'),\n",
       " Document(metadata={'producer': 'PyPDF', 'creator': 'PyPDF', 'creationdate': '', 'source': 'D:/vscode/Langchain/rag_langchain/data_source/vietnam\\\\Bài 10_ 85-92.pdf', 'total_pages': 8, 'page': 6, 'page_label': '7'}, page_content='nghìn dân rất cao. Hướng nghiên cứu tiếp theo của nhóm là phân tích các giải pháp \\nđể ứng phó thực trạng tai nạn giao thông đường bộ ở Việt Nam hiện nay./.\\nTÀI LIỆU THAM KHẢO\\n[1] Jesús Monclús, Fundación MAPFRE. Road safety and the sustainable \\ndevelopment goals, 2020.'),\n",
       " Document(metadata={'producer': 'PyPDF', 'creator': 'PyPDF', 'creationdate': '', 'source': 'D:/vscode/Langchain/rag_langchain/data_source/vietnam\\\\Bài 10_ 85-92.pdf', 'total_pages': 8, 'page': 6, 'page_label': '7'}, page_content='[1] Jesús Monclús, Fundación MAPFRE. Road safety and the sustainable \\ndevelopment goals, 2020.\\n[2] WHO báo động tình trạng tai nạn giao thông đường bộ ở các nước nghèo. \\nInternet: https://vtv.vn/the-gioi/who-bao-dong-tinh-trang-tai-nan-giao-thong-'),\n",
       " Document(metadata={'producer': 'PyPDF', 'creator': 'PyPDF', 'creationdate': '', 'source': 'D:/vscode/Langchain/rag_langchain/data_source/vietnam\\\\Bài 10_ 85-92.pdf', 'total_pages': 8, 'page': 6, 'page_label': '7'}, page_content='Internet: https://vtv.vn/the-gioi/who-bao-dong-tinh-trang-tai-nan-giao-thong-\\nduong-bo-o-cac-nuoc-ngheo-20181208133348384.htm, 17/6/2023.\\n[3] Dương Minh Tuấn, La Văn Ngọ, Đỗ Tuấn Phương. Vấn đề an toàn giao thông \\nđường bộ trong các mục tiêu phát triển bền vững, kỷ yếu hội nghị an toàn giao thông'),\n",
       " Document(metadata={'producer': 'PyPDF', 'creator': 'PyPDF', 'creationdate': '', 'source': 'D:/vscode/Langchain/rag_langchain/data_source/vietnam\\\\Bài 10_ 85-92.pdf', 'total_pages': 8, 'page': 6, 'page_label': '7'}, page_content='đường bộ trong các mục tiêu phát triển bền vững, kỷ yếu hội nghị an toàn giao thông \\nViệt Nam, pp 111-116, 2021.\\n[4] Trần Thị Ngọc Lan. Nghiên cứu thực trạng tử vong do tai nạn giao thông ở \\nViệt Nam, Y học thực hành (767) - số 6/2011.'),\n",
       " Document(metadata={'producer': 'PyPDF', 'creator': 'PyPDF', 'creationdate': '', 'source': 'D:/vscode/Langchain/rag_langchain/data_source/vietnam\\\\Bài 10_ 85-92.pdf', 'total_pages': 8, 'page': 7, 'page_label': '8'}, page_content='92\\n[5] Anh Tuan VU, and Dinh Vinh Man NGUYEN. Analysis of Child-related \\nRoad Traffic Accidents in Vietnam, IOP Conf. Series: Earth and Environmental \\nScience 143, 2018.\\n[6] Đinh Thị Phương Dung. Nâng cao hiệu quả công tác tuyên truyền pháp luật'),\n",
       " Document(metadata={'producer': 'PyPDF', 'creator': 'PyPDF', 'creationdate': '', 'source': 'D:/vscode/Langchain/rag_langchain/data_source/vietnam\\\\Bài 10_ 85-92.pdf', 'total_pages': 8, 'page': 7, 'page_label': '8'}, page_content='Science 143, 2018.\\n[6] Đinh Thị Phương Dung. Nâng cao hiệu quả công tác tuyên truyền pháp luật \\nvề giao thông đường bộ, kỷ yếu hội nghị an toàn giao thông Việt Nam, pp 80-81, \\n2021.\\n[7] Gần 70% nạn nhân TNGT ở nước ta trong độ tuổi “vàng” lao động, là trụ cột'),\n",
       " Document(metadata={'producer': 'PyPDF', 'creator': 'PyPDF', 'creationdate': '', 'source': 'D:/vscode/Langchain/rag_langchain/data_source/vietnam\\\\Bài 10_ 85-92.pdf', 'total_pages': 8, 'page': 7, 'page_label': '8'}, page_content='2021.\\n[7] Gần 70% nạn nhân TNGT ở nước ta trong độ tuổi “vàng” lao động, là trụ cột \\ngia đình. Internet: https://vov.vn/xa-hoi/gan-70-nan-nhan-tngt-o-nuoc-ta-trong-do-\\ntuoi-vang-lao-dong-la-tru-cot-gia-dinh-816824.vov,18/6/2023.'),\n",
       " Document(metadata={'producer': 'PyPDF', 'creator': 'PyPDF', 'creationdate': '', 'source': 'D:/vscode/Langchain/rag_langchain/data_source/vietnam\\\\Bài 10_ 85-92.pdf', 'total_pages': 8, 'page': 7, 'page_label': '8'}, page_content='tuoi-vang-lao-dong-la-tru-cot-gia-dinh-816824.vov,18/6/2023.\\n[8] Tai nạn giao thông để lại hậu quả khủng khiếp và dai dẳng về kinh tế - xã hội. \\nInternet: https://vov.vn/xa-hoi/tai-nan-giao-thong-de-lai-hau-qua-khung-khiep-va-\\ndai-dang-ve-kinh-te-xa-hoi-post913484.vov, 4/3/2023.'),\n",
       " Document(metadata={'producer': 'PyPDF', 'creator': 'PyPDF', 'creationdate': '', 'source': 'D:/vscode/Langchain/rag_langchain/data_source/vietnam\\\\Bài 10_ 85-92.pdf', 'total_pages': 8, 'page': 7, 'page_label': '8'}, page_content='dai-dang-ve-kinh-te-xa-hoi-post913484.vov, 4/3/2023.\\n[9] Cục đăng kiểm Việt Nam. Internet: http://www.vr.org.vn/thong-ke/Pages/\\ntong-hop-so-lieu-phuong-tien-giao-thong-trong-ca-nuoc.aspx, 25/4/2023.\\n[10] Phân tích các vụ tai nạn giao thông đường bộ năm 2021. Internet: https://'),\n",
       " Document(metadata={'producer': 'PyPDF', 'creator': 'PyPDF', 'creationdate': '', 'source': 'D:/vscode/Langchain/rag_langchain/data_source/vietnam\\\\Bài 10_ 85-92.pdf', 'total_pages': 8, 'page': 7, 'page_label': '8'}, page_content='[10] Phân tích các vụ tai nạn giao thông đường bộ năm 2021. Internet: https://\\natgt.ninhbinh.gov.vn/tin-tuc-254/phan-tich-cac-vu-tai-nan-giao-thong-duong-bo-\\nnam-2021, 25/4/2023.\\n[11] Tình hình, đặc điểm tai nạn giao thông đường bộ tại Việt Nam năm 2017.'),\n",
       " Document(metadata={'producer': 'PyPDF', 'creator': 'PyPDF', 'creationdate': '', 'source': 'D:/vscode/Langchain/rag_langchain/data_source/vietnam\\\\Bài 10_ 85-92.pdf', 'total_pages': 8, 'page': 7, 'page_label': '8'}, page_content='nam-2021, 25/4/2023.\\n[11] Tình hình, đặc điểm tai nạn giao thông đường bộ tại Việt Nam năm 2017. \\nInternet: http://csnd.edu.vn/tin-tuc/tinh-hinh-dac-diem-tai-nan-giao-thong-duong-\\nbo-tai-viet-nam-nam-2017-44.html, 12/6/2023.\\n[12] Trật tự an toàn xã hội. Internet: http://www.gso.gov.vn/default.'),\n",
       " Document(metadata={'producer': 'PyPDF', 'creator': 'PyPDF', 'creationdate': '', 'source': 'D:/vscode/Langchain/rag_langchain/data_source/vietnam\\\\Bài 10_ 85-92.pdf', 'total_pages': 8, 'page': 7, 'page_label': '8'}, page_content='[12] Trật tự an toàn xã hội. Internet: http://www.gso.gov.vn/default.\\naspx?tabid=714, 27/4/2023.\\n[13] The World Bank OPen Data. Internet: https://data.worldbank.org/indicator/\\nSH.STA.TRAF.P5, 12/6/2023.'),\n",
       " Document(metadata={'producer': 'Canva', 'creator': 'Canva', 'creationdate': '2025-02-13T03:15:27+00:00', 'title': 'BÁO CÁO VỀ VẤN ĐỀ Ô NHIỄM MÔI TRƯỜNG TẠI VIỆT NAM', 'moddate': '2025-02-13T03:15:27+00:00', 'keywords': 'DAGe8x6oCLs,BAGe4X6zF2Q,0', 'author': 'minh pham', 'source': 'D:/vscode/Langchain/rag_langchain/data_source/vietnam\\\\BÁO CÁO VỀ VẤN ĐỀ Ô NHIỄM MÔI TRƯỜNG TẠI VIỆT NAM.pdf', 'total_pages': 2, 'page': 0, 'page_label': '1'}, page_content='1.\\xa0\\n2.\\xa0\\n3.\\xa0\\n4.\\xa0\\nBÁO CÁO VÊ\\x00  VÂ\\x00 N ĐÊ\\x00  Ô NHIÊ\\x00M MÔI TR ƯỜ NG T Ạ I VI Ệ T NAM\\nI. M Ở  ĐÂ\\x00 U \\nHi ệ n nay, ô nhiễm môi tr ườ ng đang tr ở  thành m ộ t trong nh ữ ng vấn đề  cấp bách t ạ i Vi ệ t Nam.'),\n",
       " Document(metadata={'producer': 'Canva', 'creator': 'Canva', 'creationdate': '2025-02-13T03:15:27+00:00', 'title': 'BÁO CÁO VỀ VẤN ĐỀ Ô NHIỄM MÔI TRƯỜNG TẠI VIỆT NAM', 'moddate': '2025-02-13T03:15:27+00:00', 'keywords': 'DAGe8x6oCLs,BAGe4X6zF2Q,0', 'author': 'minh pham', 'source': 'D:/vscode/Langchain/rag_langchain/data_source/vietnam\\\\BÁO CÁO VỀ VẤN ĐỀ Ô NHIỄM MÔI TRƯỜNG TẠI VIỆT NAM.pdf', 'total_pages': 2, 'page': 0, 'page_label': '1'}, page_content='Tốc đ ộ  đô th ị  hóa nhanh chóng, s ự  gia tăng dân số cùng v ớ i các ho ạ t đ ộ ng s ả n xuất công \\nnghi ệ p, nông nghi ệ p và sinh ho ạ t c ủ a con ng ườ i đã gây ra nh ữ ng tác đ ộ ng tiêu c ự c đến môi'),\n",
       " Document(metadata={'producer': 'Canva', 'creator': 'Canva', 'creationdate': '2025-02-13T03:15:27+00:00', 'title': 'BÁO CÁO VỀ VẤN ĐỀ Ô NHIỄM MÔI TRƯỜNG TẠI VIỆT NAM', 'moddate': '2025-02-13T03:15:27+00:00', 'keywords': 'DAGe8x6oCLs,BAGe4X6zF2Q,0', 'author': 'minh pham', 'source': 'D:/vscode/Langchain/rag_langchain/data_source/vietnam\\\\BÁO CÁO VỀ VẤN ĐỀ Ô NHIỄM MÔI TRƯỜNG TẠI VIỆT NAM.pdf', 'total_pages': 2, 'page': 0, 'page_label': '1'}, page_content='tr ườ ng sống. Báo cáo này nhằ m đánh giá th ự c tr ạ ng ô nhiễm môi tr ườ ng t ạ i Vi ệ t Nam, nguyên \\nnhân, h ậ u qu ả  và đề  xuất các gi ả i pháp khắc ph ụ c.\\nII. TH Ự C TR Ạ NG Ô NHIÊ\\x00M MÔI TR ƯỜ NG T Ạ I VI Ệ T NAM\\nÔ nhiễm không khí'),\n",
       " Document(metadata={'producer': 'Canva', 'creator': 'Canva', 'creationdate': '2025-02-13T03:15:27+00:00', 'title': 'BÁO CÁO VỀ VẤN ĐỀ Ô NHIỄM MÔI TRƯỜNG TẠI VIỆT NAM', 'moddate': '2025-02-13T03:15:27+00:00', 'keywords': 'DAGe8x6oCLs,BAGe4X6zF2Q,0', 'author': 'minh pham', 'source': 'D:/vscode/Langchain/rag_langchain/data_source/vietnam\\\\BÁO CÁO VỀ VẤN ĐỀ Ô NHIỄM MÔI TRƯỜNG TẠI VIỆT NAM.pdf', 'total_pages': 2, 'page': 0, 'page_label': '1'}, page_content='II. TH Ự C TR Ạ NG Ô NHIÊ\\x00M MÔI TR ƯỜ NG T Ạ I VI Ệ T NAM\\nÔ nhiễm không khí\\nChất l ượ ng không khí t ạ i các đô th ị  l ớ n nh ư  Hà N ộ i, TP. Hồ  Chí Minh đang ở  m ứ c báo \\nđ ộ ng, ch ỉ  số AQI th ườ ng xuyên v ượ t m ứ c an toàn.'),\n",
       " Document(metadata={'producer': 'Canva', 'creator': 'Canva', 'creationdate': '2025-02-13T03:15:27+00:00', 'title': 'BÁO CÁO VỀ VẤN ĐỀ Ô NHIỄM MÔI TRƯỜNG TẠI VIỆT NAM', 'moddate': '2025-02-13T03:15:27+00:00', 'keywords': 'DAGe8x6oCLs,BAGe4X6zF2Q,0', 'author': 'minh pham', 'source': 'D:/vscode/Langchain/rag_langchain/data_source/vietnam\\\\BÁO CÁO VỀ VẤN ĐỀ Ô NHIỄM MÔI TRƯỜNG TẠI VIỆT NAM.pdf', 'total_pages': 2, 'page': 0, 'page_label': '1'}, page_content='đ ộ ng, ch ỉ  số AQI th ườ ng xuyên v ượ t m ứ c an toàn.\\nNguyên nhân chính bao gồ m khí th ả i t ừ  ph ươ ng ti ệ n giao thông, ho ạ t đ ộ ng s ả n xuất \\ncông nghi ệ p, đốt r ơ m r ạ  và chất th ả i sinh ho ạ t.\\nÔ nhiễm n ướ c'),\n",
       " Document(metadata={'producer': 'Canva', 'creator': 'Canva', 'creationdate': '2025-02-13T03:15:27+00:00', 'title': 'BÁO CÁO VỀ VẤN ĐỀ Ô NHIỄM MÔI TRƯỜNG TẠI VIỆT NAM', 'moddate': '2025-02-13T03:15:27+00:00', 'keywords': 'DAGe8x6oCLs,BAGe4X6zF2Q,0', 'author': 'minh pham', 'source': 'D:/vscode/Langchain/rag_langchain/data_source/vietnam\\\\BÁO CÁO VỀ VẤN ĐỀ Ô NHIỄM MÔI TRƯỜNG TẠI VIỆT NAM.pdf', 'total_pages': 2, 'page': 0, 'page_label': '1'}, page_content='công nghi ệ p, đốt r ơ m r ạ  và chất th ả i sinh ho ạ t.\\nÔ nhiễm n ướ c\\nNguồ n n ướ c t ạ i nhiề u con sông l ớ n nh ư  sông Cầ u, sông Nhu ệ , sông Đáy b ị  ô nhiễm \\nnghiêm tr ọ ng do x ả  th ả i t ừ  các khu công nghi ệ p và làng nghề .'),\n",
       " Document(metadata={'producer': 'Canva', 'creator': 'Canva', 'creationdate': '2025-02-13T03:15:27+00:00', 'title': 'BÁO CÁO VỀ VẤN ĐỀ Ô NHIỄM MÔI TRƯỜNG TẠI VIỆT NAM', 'moddate': '2025-02-13T03:15:27+00:00', 'keywords': 'DAGe8x6oCLs,BAGe4X6zF2Q,0', 'author': 'minh pham', 'source': 'D:/vscode/Langchain/rag_langchain/data_source/vietnam\\\\BÁO CÁO VỀ VẤN ĐỀ Ô NHIỄM MÔI TRƯỜNG TẠI VIỆT NAM.pdf', 'total_pages': 2, 'page': 0, 'page_label': '1'}, page_content='nghiêm tr ọ ng do x ả  th ả i t ừ  các khu công nghi ệ p và làng nghề .\\nÔ nhiễm n ướ c ngầ m cũng đang là m ộ t vấn đề  đáng lo ng ạ i, đ ặ c bi ệ t là do l ạ m d ụ ng hóa \\nchất trong s ả n xuất nông nghi ệ p.\\nÔ nhiễm đất'),\n",
       " Document(metadata={'producer': 'Canva', 'creator': 'Canva', 'creationdate': '2025-02-13T03:15:27+00:00', 'title': 'BÁO CÁO VỀ VẤN ĐỀ Ô NHIỄM MÔI TRƯỜNG TẠI VIỆT NAM', 'moddate': '2025-02-13T03:15:27+00:00', 'keywords': 'DAGe8x6oCLs,BAGe4X6zF2Q,0', 'author': 'minh pham', 'source': 'D:/vscode/Langchain/rag_langchain/data_source/vietnam\\\\BÁO CÁO VỀ VẤN ĐỀ Ô NHIỄM MÔI TRƯỜNG TẠI VIỆT NAM.pdf', 'total_pages': 2, 'page': 0, 'page_label': '1'}, page_content='chất trong s ả n xuất nông nghi ệ p.\\nÔ nhiễm đất\\nS ử  d ụ ng hóa chất b ả o v ệ  th ự c v ậ t và phân bón hóa h ọ c quá m ứ c làm suy gi ả m chất \\nl ượ ng đất.\\nRác th ả i nh ự a, kim lo ạ i n ặ ng t ừ  các khu công nghi ệ p và bãi rác không đ ượ c x ử  lý đúng'),\n",
       " Document(metadata={'producer': 'Canva', 'creator': 'Canva', 'creationdate': '2025-02-13T03:15:27+00:00', 'title': 'BÁO CÁO VỀ VẤN ĐỀ Ô NHIỄM MÔI TRƯỜNG TẠI VIỆT NAM', 'moddate': '2025-02-13T03:15:27+00:00', 'keywords': 'DAGe8x6oCLs,BAGe4X6zF2Q,0', 'author': 'minh pham', 'source': 'D:/vscode/Langchain/rag_langchain/data_source/vietnam\\\\BÁO CÁO VỀ VẤN ĐỀ Ô NHIỄM MÔI TRƯỜNG TẠI VIỆT NAM.pdf', 'total_pages': 2, 'page': 0, 'page_label': '1'}, page_content='cách đã làm ô nhiễm nghiêm tr ọ ng đất đai.\\nÔ nhiễm tiếng ồ n và ánh sáng\\nTiếng ồ n t ừ  giao thông, công trình xây d ự ng và ho ạ t đ ộ ng công nghi ệ p ả nh h ưở ng l ớ n \\nđến s ứ c kh ỏ e con ng ườ i.'),\n",
       " Document(metadata={'producer': 'Canva', 'creator': 'Canva', 'creationdate': '2025-02-13T03:15:27+00:00', 'title': 'BÁO CÁO VỀ VẤN ĐỀ Ô NHIỄM MÔI TRƯỜNG TẠI VIỆT NAM', 'moddate': '2025-02-13T03:15:27+00:00', 'keywords': 'DAGe8x6oCLs,BAGe4X6zF2Q,0', 'author': 'minh pham', 'source': 'D:/vscode/Langchain/rag_langchain/data_source/vietnam\\\\BÁO CÁO VỀ VẤN ĐỀ Ô NHIỄM MÔI TRƯỜNG TẠI VIỆT NAM.pdf', 'total_pages': 2, 'page': 0, 'page_label': '1'}, page_content='đến s ứ c kh ỏ e con ng ườ i.\\nÔ nhiễm ánh sáng t ạ i các đô th ị  cũng đang gia tăng, ả nh h ưở ng đến sinh ho ạ t và h ệ \\nsinh thái.\\nIII. NGUYÊN NHÂN Ô NHIÊ\\x00M\\nTốc đ ộ  công nghi ệ p hóa và đô th ị  hóa nhanh chóng nh ư ng ch ư a có s ự  ki ể m soát ch ặ t chẽ.'),\n",
       " Document(metadata={'producer': 'Canva', 'creator': 'Canva', 'creationdate': '2025-02-13T03:15:27+00:00', 'title': 'BÁO CÁO VỀ VẤN ĐỀ Ô NHIỄM MÔI TRƯỜNG TẠI VIỆT NAM', 'moddate': '2025-02-13T03:15:27+00:00', 'keywords': 'DAGe8x6oCLs,BAGe4X6zF2Q,0', 'author': 'minh pham', 'source': 'D:/vscode/Langchain/rag_langchain/data_source/vietnam\\\\BÁO CÁO VỀ VẤN ĐỀ Ô NHIỄM MÔI TRƯỜNG TẠI VIỆT NAM.pdf', 'total_pages': 2, 'page': 0, 'page_label': '1'}, page_content='Ý th ứ c b ả o v ệ  môi tr ườ ng c ủ a ng ườ i dân và doanh nghi ệ p còn h ạ n chế.\\nH ệ  thống pháp lu ậ t và chế tài x ử  ph ạ t ch ư a đ ủ  m ạ nh đ ể  răn đe các hành vi gây ô nhiễm.\\nCông tác qu ả n lý rác th ả i và x ử  lý chất th ả i còn nhiề u bất c ậ p.'),\n",
       " Document(metadata={'producer': 'Canva', 'creator': 'Canva', 'creationdate': '2025-02-13T03:15:27+00:00', 'title': 'BÁO CÁO VỀ VẤN ĐỀ Ô NHIỄM MÔI TRƯỜNG TẠI VIỆT NAM', 'moddate': '2025-02-13T03:15:27+00:00', 'keywords': 'DAGe8x6oCLs,BAGe4X6zF2Q,0', 'author': 'minh pham', 'source': 'D:/vscode/Langchain/rag_langchain/data_source/vietnam\\\\BÁO CÁO VỀ VẤN ĐỀ Ô NHIỄM MÔI TRƯỜNG TẠI VIỆT NAM.pdf', 'total_pages': 2, 'page': 0, 'page_label': '1'}, page_content='Công tác qu ả n lý rác th ả i và x ử  lý chất th ả i còn nhiề u bất c ậ p.\\nIV. H Ậ U QU Ả  C Ủ A Ô NHIÊ\\x00M MÔI TR ƯỜ NG\\nẢ nh h ưở ng tr ự c tiếp đến s ứ c kh ỏ e con ng ườ i, gia tăng các b ệ nh về  đ ườ ng hô hấp, tim \\nm ạ ch, ung th ư .'),\n",
       " Document(metadata={'producer': 'Canva', 'creator': 'Canva', 'creationdate': '2025-02-13T03:15:27+00:00', 'title': 'BÁO CÁO VỀ VẤN ĐỀ Ô NHIỄM MÔI TRƯỜNG TẠI VIỆT NAM', 'moddate': '2025-02-13T03:15:27+00:00', 'keywords': 'DAGe8x6oCLs,BAGe4X6zF2Q,0', 'author': 'minh pham', 'source': 'D:/vscode/Langchain/rag_langchain/data_source/vietnam\\\\BÁO CÁO VỀ VẤN ĐỀ Ô NHIỄM MÔI TRƯỜNG TẠI VIỆT NAM.pdf', 'total_pages': 2, 'page': 0, 'page_label': '1'}, page_content='m ạ ch, ung th ư .\\nTác đ ộ ng tiêu c ự c đến đa d ạ ng sinh h ọ c, làm suy gi ả m h ệ  sinh thái t ự  nhiên.'),\n",
       " Document(metadata={'producer': 'Canva', 'creator': 'Canva', 'creationdate': '2025-02-13T03:15:27+00:00', 'title': 'BÁO CÁO VỀ VẤN ĐỀ Ô NHIỄM MÔI TRƯỜNG TẠI VIỆT NAM', 'moddate': '2025-02-13T03:15:27+00:00', 'keywords': 'DAGe8x6oCLs,BAGe4X6zF2Q,0', 'author': 'minh pham', 'source': 'D:/vscode/Langchain/rag_langchain/data_source/vietnam\\\\BÁO CÁO VỀ VẤN ĐỀ Ô NHIỄM MÔI TRƯỜNG TẠI VIỆT NAM.pdf', 'total_pages': 2, 'page': 1, 'page_label': '2'}, page_content='1.\\xa0\\n2.\\xa0\\n3.\\xa0\\n4.\\xa0\\n5.\\xa0\\nGây thi ệ t h ạ i về  kinh tế do chi phí y tế gia tăng và ả nh h ưở ng đến các ngành nông nghi ệ p, \\ndu l ị ch.\\nBiến đ ổ i khí h ậ u tr ở  nên nghiêm tr ọ ng h ơ n do khí th ả i gây hi ệ u ứ ng nhà kính.\\nV. GI Ả I PHÁP KHĂ\\x00 C PH Ụ C'),\n",
       " Document(metadata={'producer': 'Canva', 'creator': 'Canva', 'creationdate': '2025-02-13T03:15:27+00:00', 'title': 'BÁO CÁO VỀ VẤN ĐỀ Ô NHIỄM MÔI TRƯỜNG TẠI VIỆT NAM', 'moddate': '2025-02-13T03:15:27+00:00', 'keywords': 'DAGe8x6oCLs,BAGe4X6zF2Q,0', 'author': 'minh pham', 'source': 'D:/vscode/Langchain/rag_langchain/data_source/vietnam\\\\BÁO CÁO VỀ VẤN ĐỀ Ô NHIỄM MÔI TRƯỜNG TẠI VIỆT NAM.pdf', 'total_pages': 2, 'page': 1, 'page_label': '2'}, page_content='V. GI Ả I PHÁP KHĂ\\x00 C PH Ụ C\\nNâng cao ý th ứ c c ộ ng đồ ng: Tăng c ườ ng giáo d ụ c, truyề n thông về  b ả o v ệ  môi tr ườ ng.\\nHoàn thi ệ n chính sách và pháp lu ậ t: Ban hành các quy đ ị nh ch ặ t chẽ h ơ n về  ki ể m soát ô \\nnhiễm và x ử  ph ạ t nghiêm khắc các hành vi vi ph ạ m.'),\n",
       " Document(metadata={'producer': 'Canva', 'creator': 'Canva', 'creationdate': '2025-02-13T03:15:27+00:00', 'title': 'BÁO CÁO VỀ VẤN ĐỀ Ô NHIỄM MÔI TRƯỜNG TẠI VIỆT NAM', 'moddate': '2025-02-13T03:15:27+00:00', 'keywords': 'DAGe8x6oCLs,BAGe4X6zF2Q,0', 'author': 'minh pham', 'source': 'D:/vscode/Langchain/rag_langchain/data_source/vietnam\\\\BÁO CÁO VỀ VẤN ĐỀ Ô NHIỄM MÔI TRƯỜNG TẠI VIỆT NAM.pdf', 'total_pages': 2, 'page': 1, 'page_label': '2'}, page_content='nhiễm và x ử  ph ạ t nghiêm khắc các hành vi vi ph ạ m.\\nPhát tri ể n công ngh ệ  xanh: Khuyến khích s ử  d ụ ng năng l ượ ng tái t ạ o, công ngh ệ  s ả n xuất \\ns ạ ch.\\nC ả i thi ệ n h ệ  thống x ử  lý chất th ả i: Đầ u t ư  vào h ệ  thống x ử  lý n ướ c th ả i, khí th ả i và rác th ả i'),\n",
       " Document(metadata={'producer': 'Canva', 'creator': 'Canva', 'creationdate': '2025-02-13T03:15:27+00:00', 'title': 'BÁO CÁO VỀ VẤN ĐỀ Ô NHIỄM MÔI TRƯỜNG TẠI VIỆT NAM', 'moddate': '2025-02-13T03:15:27+00:00', 'keywords': 'DAGe8x6oCLs,BAGe4X6zF2Q,0', 'author': 'minh pham', 'source': 'D:/vscode/Langchain/rag_langchain/data_source/vietnam\\\\BÁO CÁO VỀ VẤN ĐỀ Ô NHIỄM MÔI TRƯỜNG TẠI VIỆT NAM.pdf', 'total_pages': 2, 'page': 1, 'page_label': '2'}, page_content='đ ạ t chu ẩ n.\\nTăng c ườ ng h ợ p tác quốc tế: H ọ c h ỏ i và áp d ụ ng các mô hình b ả o v ệ  môi tr ườ ng hi ệ u qu ả \\nt ừ  các n ướ c tiên tiến.\\nVI. KÊ\\x00T LU Ậ N Ô nhiễm môi tr ườ ng t ạ i Vi ệ t Nam đang đ ặ t ra nhiề u thách th ứ c l ớ n. Đ ể  gi ả m'),\n",
       " Document(metadata={'producer': 'Canva', 'creator': 'Canva', 'creationdate': '2025-02-13T03:15:27+00:00', 'title': 'BÁO CÁO VỀ VẤN ĐỀ Ô NHIỄM MÔI TRƯỜNG TẠI VIỆT NAM', 'moddate': '2025-02-13T03:15:27+00:00', 'keywords': 'DAGe8x6oCLs,BAGe4X6zF2Q,0', 'author': 'minh pham', 'source': 'D:/vscode/Langchain/rag_langchain/data_source/vietnam\\\\BÁO CÁO VỀ VẤN ĐỀ Ô NHIỄM MÔI TRƯỜNG TẠI VIỆT NAM.pdf', 'total_pages': 2, 'page': 1, 'page_label': '2'}, page_content='thi ể u tác đ ộ ng c ủ a ô nhiễm, cầ n có s ự  chung tay c ủ a chính ph ủ , doanh nghi ệ p và toàn xã h ộ i. \\nVi ệ c tri ể n khai các gi ả i pháp m ộ t cách đồ ng b ộ  và hi ệ u qu ả  sẽ giúp b ả o v ệ  môi tr ườ ng sống và \\nh ướ ng t ớ i phát tri ể n bề n v ữ ng.\\nVII. KIÊ\\x00N NGH Ị'),\n",
       " Document(metadata={'producer': 'Canva', 'creator': 'Canva', 'creationdate': '2025-02-13T03:15:27+00:00', 'title': 'BÁO CÁO VỀ VẤN ĐỀ Ô NHIỄM MÔI TRƯỜNG TẠI VIỆT NAM', 'moddate': '2025-02-13T03:15:27+00:00', 'keywords': 'DAGe8x6oCLs,BAGe4X6zF2Q,0', 'author': 'minh pham', 'source': 'D:/vscode/Langchain/rag_langchain/data_source/vietnam\\\\BÁO CÁO VỀ VẤN ĐỀ Ô NHIỄM MÔI TRƯỜNG TẠI VIỆT NAM.pdf', 'total_pages': 2, 'page': 1, 'page_label': '2'}, page_content='h ướ ng t ớ i phát tri ể n bề n v ữ ng.\\nVII. KIÊ\\x00N NGH Ị\\nChính ph ủ  cầ n tăng c ườ ng giám sát, ki ể m tra và có chính sách hỗ  tr ợ  các doanh nghi ệ p \\nthân thi ệ n v ớ i môi tr ườ ng.'),\n",
       " Document(metadata={'producer': 'Canva', 'creator': 'Canva', 'creationdate': '2025-02-13T03:15:27+00:00', 'title': 'BÁO CÁO VỀ VẤN ĐỀ Ô NHIỄM MÔI TRƯỜNG TẠI VIỆT NAM', 'moddate': '2025-02-13T03:15:27+00:00', 'keywords': 'DAGe8x6oCLs,BAGe4X6zF2Q,0', 'author': 'minh pham', 'source': 'D:/vscode/Langchain/rag_langchain/data_source/vietnam\\\\BÁO CÁO VỀ VẤN ĐỀ Ô NHIỄM MÔI TRƯỜNG TẠI VIỆT NAM.pdf', 'total_pages': 2, 'page': 1, 'page_label': '2'}, page_content='thân thi ệ n v ớ i môi tr ườ ng.\\nNg ườ i dân cầ n nâng cao ý th ứ c b ả o v ệ  môi tr ườ ng bằ ng các hành đ ộ ng thiết th ự c nh ư  tiết \\nki ệ m năng l ượ ng, phân lo ạ i rác th ả i.\\nCác t ổ  ch ứ c phi chính ph ủ  và doanh nghi ệ p cầ n đóng vai trò tích c ự c h ơ n trong vi ệ c b ả o'),\n",
       " Document(metadata={'producer': 'Canva', 'creator': 'Canva', 'creationdate': '2025-02-13T03:15:27+00:00', 'title': 'BÁO CÁO VỀ VẤN ĐỀ Ô NHIỄM MÔI TRƯỜNG TẠI VIỆT NAM', 'moddate': '2025-02-13T03:15:27+00:00', 'keywords': 'DAGe8x6oCLs,BAGe4X6zF2Q,0', 'author': 'minh pham', 'source': 'D:/vscode/Langchain/rag_langchain/data_source/vietnam\\\\BÁO CÁO VỀ VẤN ĐỀ Ô NHIỄM MÔI TRƯỜNG TẠI VIỆT NAM.pdf', 'total_pages': 2, 'page': 1, 'page_label': '2'}, page_content='v ệ  môi tr ườ ng.\\nBáo cáo này nhằ m m ụ c tiêu nâng cao nh ậ n th ứ c và đề  xuất các bi ệ n pháp thiết th ự c đ ể  gi ả m \\nthi ể u ô nhiễm môi tr ườ ng t ạ i Vi ệ t Nam.'),\n",
       " Document(metadata={'producer': 'Canva', 'creator': 'Canva', 'creationdate': '2025-02-13T04:03:40+00:00', 'title': 'Trong năm 2024, tình hình vi phạm giao thông tại Việt Nam diễn biến phức tạp với các số liệu đáng chú ý như sau:', 'moddate': '2025-02-13T04:03:40+00:00', 'keywords': 'DAGe9E8gS40,BAGe4X6zF2Q,0', 'author': 'minh pham', 'source': 'D:/vscode/Langchain/rag_langchain/data_source/vietnam\\\\Trong năm 2024, tình hình vi phạm giao thông tại Việt Nam diễn biến phức tạp với các số liệu đáng chú ý như sau.pdf', 'total_pages': 2, 'page': 0, 'page_label': '1'}, page_content='Thống kê vi ph ạ m giao thông trong năm 2024\\nTrong năm 2024, tình hình vi ph ạ m giao thông t ạ i Vi ệ t Nam diễn biến ph ứ c t ạ p v ớ i các số li ệ u \\nđáng chú ý nh ư  sau:\\n1. Số v ụ  tai n ạ n giao thông và h ậ u qu ả :\\nT ổ ng số v ụ  tai n ạ n: 23.484 v ụ .'),\n",
       " Document(metadata={'producer': 'Canva', 'creator': 'Canva', 'creationdate': '2025-02-13T04:03:40+00:00', 'title': 'Trong năm 2024, tình hình vi phạm giao thông tại Việt Nam diễn biến phức tạp với các số liệu đáng chú ý như sau:', 'moddate': '2025-02-13T04:03:40+00:00', 'keywords': 'DAGe9E8gS40,BAGe4X6zF2Q,0', 'author': 'minh pham', 'source': 'D:/vscode/Langchain/rag_langchain/data_source/vietnam\\\\Trong năm 2024, tình hình vi phạm giao thông tại Việt Nam diễn biến phức tạp với các số liệu đáng chú ý như sau.pdf', 'total_pages': 2, 'page': 0, 'page_label': '1'}, page_content='1. Số v ụ  tai n ạ n giao thông và h ậ u qu ả :\\nT ổ ng số v ụ  tai n ạ n: 23.484 v ụ .\\nSố ng ườ i t ử  vong: 10.944 ng ườ i.\\nSố ng ườ i b ị  th ươ ng: 17.342 ng ườ i.\\nSo v ớ i năm 2023, số v ụ  tai n ạ n tăng 0,7%, số ng ườ i chết gi ả m 7,7%, và số ng ườ i b ị  th ươ ng tăng \\n4,2%.'),\n",
       " Document(metadata={'producer': 'Canva', 'creator': 'Canva', 'creationdate': '2025-02-13T04:03:40+00:00', 'title': 'Trong năm 2024, tình hình vi phạm giao thông tại Việt Nam diễn biến phức tạp với các số liệu đáng chú ý như sau:', 'moddate': '2025-02-13T04:03:40+00:00', 'keywords': 'DAGe9E8gS40,BAGe4X6zF2Q,0', 'author': 'minh pham', 'source': 'D:/vscode/Langchain/rag_langchain/data_source/vietnam\\\\Trong năm 2024, tình hình vi phạm giao thông tại Việt Nam diễn biến phức tạp với các số liệu đáng chú ý như sau.pdf', 'total_pages': 2, 'page': 0, 'page_label': '1'}, page_content='4,2%. \\n2. X ử  lý vi ph ạ m giao thông:\\nT ổ ng số tr ườ ng h ợ p vi ph ạ m b ị  x ử  lý: H ơ n 3 tri ệ u tr ườ ng h ợ p.\\nT ổ ng số tiề n ph ạ t: Gầ n 6.000 t ỷ  đồ ng.\\nGiấy phép lái xe b ị  t ướ c: Kho ả ng 600.000 tr ườ ng h ợ p.'),\n",
       " Document(metadata={'producer': 'Canva', 'creator': 'Canva', 'creationdate': '2025-02-13T04:03:40+00:00', 'title': 'Trong năm 2024, tình hình vi phạm giao thông tại Việt Nam diễn biến phức tạp với các số liệu đáng chú ý như sau:', 'moddate': '2025-02-13T04:03:40+00:00', 'keywords': 'DAGe9E8gS40,BAGe4X6zF2Q,0', 'author': 'minh pham', 'source': 'D:/vscode/Langchain/rag_langchain/data_source/vietnam\\\\Trong năm 2024, tình hình vi phạm giao thông tại Việt Nam diễn biến phức tạp với các số liệu đáng chú ý như sau.pdf', 'total_pages': 2, 'page': 0, 'page_label': '1'}, page_content='Giấy phép lái xe b ị  t ướ c: Kho ả ng 600.000 tr ườ ng h ợ p.\\nPh ươ ng ti ệ n b ị  t ạ m gi ữ : Kho ả ng 1 tri ệ u ph ươ ng ti ệ n các lo ạ i.\\nTrong đó, vi ph ạ m nồ ng đ ộ  cồ n chiếm 19,14% t ổ ng số vi ph ạ m, v ớ i 722.409 tr ườ ng h ợ p b ị  x ử  lý.'),\n",
       " Document(metadata={'producer': 'Canva', 'creator': 'Canva', 'creationdate': '2025-02-13T04:03:40+00:00', 'title': 'Trong năm 2024, tình hình vi phạm giao thông tại Việt Nam diễn biến phức tạp với các số liệu đáng chú ý như sau:', 'moddate': '2025-02-13T04:03:40+00:00', 'keywords': 'DAGe9E8gS40,BAGe4X6zF2Q,0', 'author': 'minh pham', 'source': 'D:/vscode/Langchain/rag_langchain/data_source/vietnam\\\\Trong năm 2024, tình hình vi phạm giao thông tại Việt Nam diễn biến phức tạp với các số liệu đáng chú ý như sau.pdf', 'total_pages': 2, 'page': 0, 'page_label': '1'}, page_content='3. Nguyên nhân chính dẫn đến tai n ạ n giao thông:\\nĐi không đúng làn đ ườ ng, phầ n đ ườ ng: Chiếm 11,79% số v ụ .\\nChuy ể n h ướ ng không chú ý: Chiếm 7,86% số v ụ .\\nS ử  d ụ ng r ượ u bia, chất kích thích có cồ n: Chiếm 4,89% số v ụ .'),\n",
       " Document(metadata={'producer': 'Canva', 'creator': 'Canva', 'creationdate': '2025-02-13T04:03:40+00:00', 'title': 'Trong năm 2024, tình hình vi phạm giao thông tại Việt Nam diễn biến phức tạp với các số liệu đáng chú ý như sau:', 'moddate': '2025-02-13T04:03:40+00:00', 'keywords': 'DAGe9E8gS40,BAGe4X6zF2Q,0', 'author': 'minh pham', 'source': 'D:/vscode/Langchain/rag_langchain/data_source/vietnam\\\\Trong năm 2024, tình hình vi phạm giao thông tại Việt Nam diễn biến phức tạp với các số liệu đáng chú ý như sau.pdf', 'total_pages': 2, 'page': 0, 'page_label': '1'}, page_content='S ử  d ụ ng r ượ u bia, chất kích thích có cồ n: Chiếm 4,89% số v ụ .\\nS ử  d ụ ng ma túy, chất gây nghi ệ n: Chiếm 0,18% số v ụ .\\nVi ệ c không chấp hành các quy tắc giao thông, đ ặ c bi ệ t là vi ph ạ m nồ ng đ ộ  cồ n, là nguyên'),\n",
       " Document(metadata={'producer': 'Canva', 'creator': 'Canva', 'creationdate': '2025-02-13T04:03:40+00:00', 'title': 'Trong năm 2024, tình hình vi phạm giao thông tại Việt Nam diễn biến phức tạp với các số liệu đáng chú ý như sau:', 'moddate': '2025-02-13T04:03:40+00:00', 'keywords': 'DAGe9E8gS40,BAGe4X6zF2Q,0', 'author': 'minh pham', 'source': 'D:/vscode/Langchain/rag_langchain/data_source/vietnam\\\\Trong năm 2024, tình hình vi phạm giao thông tại Việt Nam diễn biến phức tạp với các số liệu đáng chú ý như sau.pdf', 'total_pages': 2, 'page': 0, 'page_label': '1'}, page_content='nhân chính dẫn đến các v ụ  tai n ạ n giao thông nghiêm tr ọ ng. \\n4. Các bi ệ n pháp tăng c ườ ng an toàn giao thông: Đ ể  gi ả m thi ể u vi ph ạ m và tai n ạ n giao thông, \\nnăm 2025, Chính ph ủ  đã ban hành các quy đ ị nh tăng n ặ ng m ứ c ph ạ t đối v ớ i các hành vi vi \\nph ạ m, bao gồ m:'),\n",
       " Document(metadata={'producer': 'Canva', 'creator': 'Canva', 'creationdate': '2025-02-13T04:03:40+00:00', 'title': 'Trong năm 2024, tình hình vi phạm giao thông tại Việt Nam diễn biến phức tạp với các số liệu đáng chú ý như sau:', 'moddate': '2025-02-13T04:03:40+00:00', 'keywords': 'DAGe9E8gS40,BAGe4X6zF2Q,0', 'author': 'minh pham', 'source': 'D:/vscode/Langchain/rag_langchain/data_source/vietnam\\\\Trong năm 2024, tình hình vi phạm giao thông tại Việt Nam diễn biến phức tạp với các số liệu đáng chú ý như sau.pdf', 'total_pages': 2, 'page': 0, 'page_label': '1'}, page_content='ph ạ m, bao gồ m:\\nTăng m ứ c ph ạ t tiề n.\\nT ị ch thu ph ươ ng ti ệ n.\\nT ướ c giấy phép lái xe có th ờ i h ạ n.\\nTr ừ  đi ể m giấy phép lái xe.\\nNh ữ ng bi ệ n pháp này nhằ m nâng cao ý th ứ c chấp hành pháp lu ậ t về  giao thông c ủ a ng ườ i dân \\nvà gi ả m thi ể u tai n ạ n giao thông.'),\n",
       " Document(metadata={'producer': 'Canva', 'creator': 'Canva', 'creationdate': '2025-02-13T04:03:40+00:00', 'title': 'Trong năm 2024, tình hình vi phạm giao thông tại Việt Nam diễn biến phức tạp với các số liệu đáng chú ý như sau:', 'moddate': '2025-02-13T04:03:40+00:00', 'keywords': 'DAGe9E8gS40,BAGe4X6zF2Q,0', 'author': 'minh pham', 'source': 'D:/vscode/Langchain/rag_langchain/data_source/vietnam\\\\Trong năm 2024, tình hình vi phạm giao thông tại Việt Nam diễn biến phức tạp với các số liệu đáng chú ý như sau.pdf', 'total_pages': 2, 'page': 0, 'page_label': '1'}, page_content='và gi ả m thi ể u tai n ạ n giao thông. \\nVi ệ c tuân th ủ  nghiêm ng ặ t các quy đ ị nh về  an toàn giao thông và nâng cao ý th ứ c c ủ a ng ườ i \\ntham gia giao thông là yếu tố quan tr ọ ng đ ể  gi ả m thi ể u tai n ạ n và đ ả m b ả o an toàn cho m ọ i \\nng ườ i.'),\n",
       " Document(metadata={'producer': 'Canva', 'creator': 'Canva', 'creationdate': '2025-02-12T09:37:05+00:00', 'title': 'Tôi là Capybara – Vua của thế giới gặm nhấm!', 'moddate': '2025-02-12T09:37:05+00:00', 'keywords': 'DAGe4UpRSCs,BAGe4X6zF2Q,0', 'author': 'minh pham', 'source': 'D:/vscode/Langchain/rag_langchain/data_source/vietnam\\\\Tôi là Capybara – Vua của thế giới gặm nhấm!.pdf', 'total_pages': 1, 'page': 0, 'page_label': '1'}, page_content='Tôi là Capybara – Vua c ủ a thế gi ớ i g ặ m nhấm!\\nXin chào! Tôi là Capybara, loài g ặ m nhấm l ớ n nhất trên Trái Đất. Tôi thu ộ c h ọ  hàng nhà chu ộ t \\nlang nh ư ng l ạ i có kích th ướ c v ượ t tr ộ i: dài kho ả ng 1,2 mét, cao 50 cm và n ặ ng t ừ  35 - 65 kg.'),\n",
       " Document(metadata={'producer': 'Canva', 'creator': 'Canva', 'creationdate': '2025-02-12T09:37:05+00:00', 'title': 'Tôi là Capybara – Vua của thế giới gặm nhấm!', 'moddate': '2025-02-12T09:37:05+00:00', 'keywords': 'DAGe4UpRSCs,BAGe4X6zF2Q,0', 'author': 'minh pham', 'source': 'D:/vscode/Langchain/rag_langchain/data_source/vietnam\\\\Tôi là Capybara – Vua của thế giới gặm nhấm!.pdf', 'total_pages': 1, 'page': 0, 'page_label': '1'}, page_content='Tôi trông giống m ộ t chú l ợ n nh ỏ  nh ư ng l ạ i có khuôn m ặ t hiề n lành và đôi mắt tròn đáng yêu.\\nTôi sống ch ủ  yếu ở  Nam Mỹ, đ ặ c bi ệ t là các vùng đầ m lầ y, sông hồ  và r ừ ng nhi ệ t đ ớ i. Tôi thích'),\n",
       " Document(metadata={'producer': 'Canva', 'creator': 'Canva', 'creationdate': '2025-02-12T09:37:05+00:00', 'title': 'Tôi là Capybara – Vua của thế giới gặm nhấm!', 'moddate': '2025-02-12T09:37:05+00:00', 'keywords': 'DAGe4UpRSCs,BAGe4X6zF2Q,0', 'author': 'minh pham', 'source': 'D:/vscode/Langchain/rag_langchain/data_source/vietnam\\\\Tôi là Capybara – Vua của thế giới gặm nhấm!.pdf', 'total_pages': 1, 'page': 0, 'page_label': '1'}, page_content='sống thành đàn, th ườ ng đi theo nhóm t ừ  10 - 20 con, nh ư ng đôi khi số l ượ ng lên đến 100 con! \\nTôi hiề n lành, thân thi ệ n và có th ể  làm b ạ n v ớ i hầ u hết các loài đ ộ ng v ậ t khác, t ừ  chim, kh ỉ  cho \\nđến cá sấu!'),\n",
       " Document(metadata={'producer': 'Canva', 'creator': 'Canva', 'creationdate': '2025-02-12T09:37:05+00:00', 'title': 'Tôi là Capybara – Vua của thế giới gặm nhấm!', 'moddate': '2025-02-12T09:37:05+00:00', 'keywords': 'DAGe4UpRSCs,BAGe4X6zF2Q,0', 'author': 'minh pham', 'source': 'D:/vscode/Langchain/rag_langchain/data_source/vietnam\\\\Tôi là Capybara – Vua của thế giới gặm nhấm!.pdf', 'total_pages': 1, 'page': 0, 'page_label': '1'}, page_content='đến cá sấu!\\nLà m ộ t loài bán th ủ y sinh, tôi thích ngâm mình trong n ướ c suốt c ả  ngày. Tôi có màng nh ỏ  gi ữ a \\ncác ngón chân giúp tôi b ơ i gi ỏ i nh ư  m ộ t v ậ n đ ộ ng viên chuyên nghi ệ p. Khi g ặ p nguy hi ể m, tôi'),\n",
       " Document(metadata={'producer': 'Canva', 'creator': 'Canva', 'creationdate': '2025-02-12T09:37:05+00:00', 'title': 'Tôi là Capybara – Vua của thế giới gặm nhấm!', 'moddate': '2025-02-12T09:37:05+00:00', 'keywords': 'DAGe4UpRSCs,BAGe4X6zF2Q,0', 'author': 'minh pham', 'source': 'D:/vscode/Langchain/rag_langchain/data_source/vietnam\\\\Tôi là Capybara – Vua của thế giới gặm nhấm!.pdf', 'total_pages': 1, 'page': 0, 'page_label': '1'}, page_content='có th ể  l ặ n xuống n ướ c đ ể  trốn k ẻ  săn mồ i. K ẻ  thù c ủ a tôi là báo đốm, cá sấu và trăn anaconda, \\nnh ư ng nh ờ  tốc đ ộ  ch ạ y nhanh và kỹ năng b ơ i l ộ i, tôi th ườ ng thoát thân khá dễ dàng.'),\n",
       " Document(metadata={'producer': 'Canva', 'creator': 'Canva', 'creationdate': '2025-02-12T09:37:05+00:00', 'title': 'Tôi là Capybara – Vua của thế giới gặm nhấm!', 'moddate': '2025-02-12T09:37:05+00:00', 'keywords': 'DAGe4UpRSCs,BAGe4X6zF2Q,0', 'author': 'minh pham', 'source': 'D:/vscode/Langchain/rag_langchain/data_source/vietnam\\\\Tôi là Capybara – Vua của thế giới gặm nhấm!.pdf', 'total_pages': 1, 'page': 0, 'page_label': '1'}, page_content='nh ư ng nh ờ  tốc đ ộ  ch ạ y nhanh và kỹ năng b ơ i l ộ i, tôi th ườ ng thoát thân khá dễ dàng.\\nTh ứ c ăn c ủ a tôi ch ủ  yếu là c ỏ , th ự c v ậ t th ủ y sinh và v ỏ  cây. Tôi có m ộ t thói quen khá kỳ l ạ : ăn'),\n",
       " Document(metadata={'producer': 'Canva', 'creator': 'Canva', 'creationdate': '2025-02-12T09:37:05+00:00', 'title': 'Tôi là Capybara – Vua của thế giới gặm nhấm!', 'moddate': '2025-02-12T09:37:05+00:00', 'keywords': 'DAGe4UpRSCs,BAGe4X6zF2Q,0', 'author': 'minh pham', 'source': 'D:/vscode/Langchain/rag_langchain/data_source/vietnam\\\\Tôi là Capybara – Vua của thế giới gặm nhấm!.pdf', 'total_pages': 1, 'page': 0, 'page_label': '1'}, page_content='l ạ i phân c ủ a chính mình đ ể  hấp th ụ  thêm chất dinh d ưỡ ng! Điề u này nghe có v ẻ  không hấp \\ndẫn lắm, nh ư ng nó giúp h ệ  tiêu hóa c ủ a tôi ho ạ t đ ộ ng hi ệ u qu ả  h ơ n.\\nTôi đ ượ c con ng ườ i yêu mến vì tính cách hiề n lành, thân thi ệ n và dễ th ươ ng. Nhiề u n ơ i còn'),\n",
       " Document(metadata={'producer': 'Canva', 'creator': 'Canva', 'creationdate': '2025-02-12T09:37:05+00:00', 'title': 'Tôi là Capybara – Vua của thế giới gặm nhấm!', 'moddate': '2025-02-12T09:37:05+00:00', 'keywords': 'DAGe4UpRSCs,BAGe4X6zF2Q,0', 'author': 'minh pham', 'source': 'D:/vscode/Langchain/rag_langchain/data_source/vietnam\\\\Tôi là Capybara – Vua của thế giới gặm nhấm!.pdf', 'total_pages': 1, 'page': 0, 'page_label': '1'}, page_content='coi tôi là m ộ t bi ể u t ượ ng c ủ a s ự  th ư  giãn, b ở i tôi luôn gi ữ  tinh thầ n tho ả i mái dù trong bất kỳ \\nhoàn c ả nh nào. Nếu b ạ n cầ n m ộ t ng ườ i b ạ n biết cách t ậ n h ưở ng cu ộ c sống, tôi chính là l ự a \\nch ọ n hoàn h ả o!'),\n",
       " Document(metadata={'producer': 'Canva', 'creator': 'Canva', 'creationdate': '2025-02-12T09:37:05+00:00', 'title': 'Tôi là Capybara – Vua của thế giới gặm nhấm!', 'moddate': '2025-02-12T09:37:05+00:00', 'keywords': 'DAGe4UpRSCs,BAGe4X6zF2Q,0', 'author': 'minh pham', 'source': 'D:/vscode/Langchain/rag_langchain/data_source/vietnam\\\\Tôi là Capybara – Vua của thế giới gặm nhấm!.pdf', 'total_pages': 1, 'page': 0, 'page_label': '1'}, page_content='ch ọ n hoàn h ả o!\\nB ạ n đã sẵn sàng đ ể  kết b ạ n v ớ i tôi ch ư a?')]"
      ]
     },
     "execution_count": 85,
     "metadata": {},
     "output_type": "execute_result"
    }
   ],
   "source": [
    "docs"
   ]
  },
  {
   "cell_type": "code",
   "execution_count": 6,
   "metadata": {},
   "outputs": [
    {
     "data": {
      "text/plain": [
       "Document(metadata={'source': 'https://arxiv.org/pdf/2312.16862', 'page': 4}, page_content='Submission and Formatting Instructions for the W ANT@ICML 2024\\nLinear\\nDown\\nr\\nLinear\\nUpPretrained\\nWeights\\n\\ud835\\nInput\\nOutput\\nLoRA\\n(a) LoRA\\nMLP\\nNormalization\\nMHA LoRA\\n(b) LoRA Module \\nfor LLMs Block\\nMHA\\nQuery-Key \\nNormalization\\nLayer Norm\\nRMS Norm\\nMLP\\nLoRA\\nAfter \\nStage1\\n(c) LLMs Block\\n for TinyGPT-V')"
      ]
     },
     "execution_count": 6,
     "metadata": {},
     "output_type": "execute_result"
    }
   ],
   "source": [
    "docs.pop(57)"
   ]
  },
  {
   "cell_type": "code",
   "execution_count": null,
   "metadata": {},
   "outputs": [],
   "source": [
    "docs"
   ]
  },
  {
   "cell_type": "code",
   "execution_count": 161,
   "metadata": {},
   "outputs": [],
   "source": [
    "docss = docs[:57]"
   ]
  },
  {
   "cell_type": "code",
   "execution_count": null,
   "metadata": {},
   "outputs": [],
   "source": [
    "docss"
   ]
  },
  {
   "cell_type": "code",
   "execution_count": 166,
   "metadata": {},
   "outputs": [],
   "source": [
    "docsss = docs[58:190]"
   ]
  },
  {
   "cell_type": "code",
   "execution_count": null,
   "metadata": {},
   "outputs": [],
   "source": [
    "docsss"
   ]
  },
  {
   "cell_type": "code",
   "execution_count": 103,
   "metadata": {},
   "outputs": [],
   "source": [
    "from langchain_community.embeddings import HuggingFaceEmbeddings\n",
    "from sentence_transformers import SentenceTransformer\n",
    "\n",
    "model_name = \"Cloyne/vietnamese-sbert-v3\"\n",
    "model = SentenceTransformer(model_name)\n",
    "embedding_model = HuggingFaceEmbeddings(model_name = model_name)"
   ]
  },
  {
   "cell_type": "code",
   "execution_count": 9,
   "metadata": {},
   "outputs": [
    {
     "data": {
      "text/plain": [
       "768"
      ]
     },
     "execution_count": 9,
     "metadata": {},
     "output_type": "execute_result"
    }
   ],
   "source": [
    "text = \"This is a sample query.\"\n",
    "\n",
    "embedding = embedding_model.embed_query(text)\n",
    "len(embedding)"
   ]
  },
  {
   "cell_type": "markdown",
   "metadata": {},
   "source": [
    "1.Chrom vector database"
   ]
  },
  {
   "cell_type": "code",
   "execution_count": 104,
   "metadata": {},
   "outputs": [],
   "source": [
    "from langchain_chroma import Chroma\n",
    "\n",
    "chroma_db = Chroma.from_documents(documents=docs, embedding=embedding_model)"
   ]
  },
  {
   "cell_type": "code",
   "execution_count": 105,
   "metadata": {},
   "outputs": [],
   "source": [
    "retriever = chroma_db.as_retriever(search_type=\"similarity\", search_kwargs={\"k\": 10})"
   ]
  },
  {
   "cell_type": "code",
   "execution_count": 97,
   "metadata": {},
   "outputs": [],
   "source": [
    "retriever = chroma_db.as_retriever(\n",
    "    search_type=\"similarity_score_threshold\",\n",
    "    search_kwargs={\"score_threshold\": 0.8, \"k\": 5}  # Giảm threshold\n",
    ")\n"
   ]
  },
  {
   "cell_type": "code",
   "execution_count": 106,
   "metadata": {},
   "outputs": [],
   "source": [
    "query = \"Số vụ tai nạn giao thông và hậu quả\""
   ]
  },
  {
   "cell_type": "code",
   "execution_count": 107,
   "metadata": {},
   "outputs": [
    {
     "data": {
      "text/plain": [
       "[Document(id='86768dd4-6f11-40cb-be33-58a6eed42c4b', metadata={'creationdate': '', 'creator': 'PyPDF', 'page': 7, 'page_label': '8', 'producer': 'PyPDF', 'source': 'D:/vscode/Langchain/rag_langchain/data_source/vietnam\\\\Bài 10_ 85-92.pdf', 'total_pages': 8}, page_content='tuoi-vang-lao-dong-la-tru-cot-gia-dinh-816824.vov,18/6/2023.\\n[8] Tai nạn giao thông để lại hậu quả khủng khiếp và dai dẳng về kinh tế - xã hội.'),\n",
       " Document(id='73cbdacf-3e4f-4348-94a2-23f2e2339767', metadata={'creationdate': '', 'creator': 'PyPDF', 'page': 1, 'page_label': '2', 'producer': 'PyPDF', 'source': 'D:/vscode/Langchain/rag_langchain/data_source/vietnam\\\\Bài 10_ 85-92.pdf', 'total_pages': 8}, page_content='nghiên cứu trước đây, 80% các vụ tai nạn giao thông xảy ra có nguyên nhân chính \\nlà do người tham gia giao thông, do sự thiếu hiểu biết về pháp luật giao thông, quy \\ntắc giao thông và văn hoá ứng xử khi tham gia giao thông [6]. Hậu quả tai nạn giao'),\n",
       " Document(id='b517a219-19b2-491c-adc5-69dee3e2adca', metadata={'creationdate': '', 'creator': 'PyPDF', 'page': 1, 'page_label': '2', 'producer': 'PyPDF', 'source': 'D:/vscode/Langchain/rag_langchain/data_source/vietnam\\\\Bài 10_ 85-92.pdf', 'total_pages': 8}, page_content='tắc giao thông và văn hoá ứng xử khi tham gia giao thông [6]. Hậu quả tai nạn giao \\nthông của không chỉ chấn thương, tử vong người tham gia giao thông mà còn ảnh \\nhưởng cuộc sống gia đình, 70% người bị tai nạn giao thông tại Việt Nam là trụ cột'),\n",
       " Document(id='eb6c8be9-9024-44f2-9750-7238055e810a', metadata={'creationdate': '', 'creator': 'PyPDF', 'page': 7, 'page_label': '8', 'producer': 'PyPDF', 'source': 'D:/vscode/Langchain/rag_langchain/data_source/vietnam\\\\Bài 10_ 85-92.pdf', 'total_pages': 8}, page_content='tuoi-vang-lao-dong-la-tru-cot-gia-dinh-816824.vov,18/6/2023.\\n[8] Tai nạn giao thông để lại hậu quả khủng khiếp và dai dẳng về kinh tế - xã hội. \\nInternet: https://vov.vn/xa-hoi/tai-nan-giao-thong-de-lai-hau-qua-khung-khiep-va-\\ndai-dang-ve-kinh-te-xa-hoi-post913484.vov, 4/3/2023.'),\n",
       " Document(id='e3596717-3266-4d76-9660-e3ec376c6ca9', metadata={'creationdate': '', 'creator': 'PyPDF', 'page': 2, 'page_label': '3', 'producer': 'PyPDF', 'source': 'D:/vscode/Langchain/rag_langchain/data_source/vietnam\\\\Bài 10_ 85-92.pdf', 'total_pages': 8}, page_content='chưa được kiểm soát tốt nên dẫn đến mật độ giao thông lớn tăng nguy cơ tai nạn \\ngiao thông. Trong tất cả các vụ tai nạn giao thông đường bộ, nguyên nhân do xe máy \\ngây ra chiếm tỉ lệ cao 57, 41%, ô tô 35,25%; phương tiện khác 7,31% (năm 2021)'),\n",
       " Document(id='31cb75e5-f455-48b8-a41e-506f115e819a', metadata={'creationdate': '', 'creator': 'PyPDF', 'page': 1, 'page_label': '2', 'producer': 'PyPDF', 'source': 'D:/vscode/Langchain/rag_langchain/data_source/vietnam\\\\Bài 10_ 85-92.pdf', 'total_pages': 8}, page_content='là do người tham gia giao thông, do sự thiếu hiểu biết về pháp luật giao thông, quy \\ntắc giao thông và văn hoá ứng xử khi tham gia giao thông [6]. Hậu quả tai nạn giao'),\n",
       " Document(id='b0954f84-a9dc-4d75-aec4-cc268ec7b303', metadata={'creationdate': '', 'creator': 'PyPDF', 'page': 6, 'page_label': '7', 'producer': 'PyPDF', 'source': 'D:/vscode/Langchain/rag_langchain/data_source/vietnam\\\\Bài 10_ 85-92.pdf', 'total_pages': 8}, page_content='thông có xu hướng tăng trở lại. Tai nạn giao thông ở các thành phố lớn luôn ở cao; \\ncòn ở các tỉnh thì tai nạn giao thông ở mức thấp hơn nhưng có tỉ lệ tử vong cao. So'),\n",
       " Document(id='5c9fd4e8-73af-4cd0-97e6-23d6ae78c61b', metadata={'creationdate': '', 'creator': 'PyPDF', 'page': 3, 'page_label': '4', 'producer': 'PyPDF', 'source': 'D:/vscode/Langchain/rag_langchain/data_source/vietnam\\\\Bài 10_ 85-92.pdf', 'total_pages': 8}, page_content='Hình 3. Nguyên nhân gây nên tai nạn giao thông đường bộ năm 2021\\n4. THỰC TRẠNG TAI NẠN GIAO THÔNG\\nThực trạng tai nạn giao thông được thể hiện qua các số liệu: số vụ va chạm giao'),\n",
       " Document(id='36660544-a53e-45bb-a0ff-8f32f8b93d7a', metadata={'creationdate': '', 'creator': 'PyPDF', 'page': 3, 'page_label': '4', 'producer': 'PyPDF', 'source': 'D:/vscode/Langchain/rag_langchain/data_source/vietnam\\\\Bài 10_ 85-92.pdf', 'total_pages': 8}, page_content='Thực trạng tai nạn giao thông được thể hiện qua các số liệu: số vụ va chạm giao \\nthông, số vụ tai nạn giao thông, số lượng người chết và số lượng người bị thương'),\n",
       " Document(id='832c9e92-921f-41d0-b080-3b2d1069a660', metadata={'creationdate': '', 'creator': 'PyPDF', 'page': 1, 'page_label': '2', 'producer': 'PyPDF', 'source': 'D:/vscode/Langchain/rag_langchain/data_source/vietnam\\\\Bài 10_ 85-92.pdf', 'total_pages': 8}, page_content='nghiên cứu trước đây, 80% các vụ tai nạn giao thông xảy ra có nguyên nhân chính \\nlà do người tham gia giao thông, do sự thiếu hiểu biết về pháp luật giao thông, quy')]"
      ]
     },
     "execution_count": 107,
     "metadata": {},
     "output_type": "execute_result"
    }
   ],
   "source": [
    "retriever.invoke(query)"
   ]
  },
  {
   "cell_type": "code",
   "execution_count": 59,
   "metadata": {},
   "outputs": [],
   "source": [
    "similar_docs = chroma_db.similarity_search(query, k=4)"
   ]
  },
  {
   "cell_type": "code",
   "execution_count": null,
   "metadata": {},
   "outputs": [],
   "source": []
  },
  {
   "cell_type": "code",
   "execution_count": 60,
   "metadata": {},
   "outputs": [
    {
     "data": {
      "text/plain": [
       "[Document(id='9203b90c-2811-4adc-a4fe-a60b83e995cb', metadata={'author': 'minh pham', 'creationdate': '2025-02-13T04:03:40+00:00', 'creator': 'Canva', 'keywords': 'DAGe9E8gS40,BAGe4X6zF2Q,0', 'moddate': '2025-02-13T04:03:40+00:00', 'page': 0, 'page_label': '1', 'producer': 'Canva', 'source': 'D:/vscode/Langchain/rag_langchain/data_source/vietnam/Trong năm 2024, tình hình vi phạm giao thông tại Việt Nam diễn biến phức tạp với các số liệu đáng chú ý như sau.pdf', 'title': 'Trong năm 2024, tình hình vi phạm giao thông tại Việt Nam diễn biến phức tạp với các số liệu đáng chú ý như sau:', 'total_pages': 2}, page_content='Ph ươ ng ti ệ n b ị  t ạ m gi ữ : Kho ả ng 1 tri ệ u ph ươ ng ti ệ n các lo ạ i.\\nTrong đó, vi ph ạ m nồ ng đ ộ  cồ n chiếm 19,14% t ổ ng số vi ph ạ m, v ớ i 722.409 tr ườ ng h ợ p b ị  x ử  lý. \\n3. Nguyên nhân chính dẫn đến tai n ạ n giao thông:'),\n",
       " Document(id='031cd91b-8792-4c4c-9609-787ecb963da9', metadata={'author': 'minh pham', 'creationdate': '2025-02-13T04:03:40+00:00', 'creator': 'Canva', 'keywords': 'DAGe9E8gS40,BAGe4X6zF2Q,0', 'moddate': '2025-02-13T04:03:40+00:00', 'page': 0, 'page_label': '1', 'producer': 'Canva', 'source': 'D:/vscode/Langchain/rag_langchain/data_source/vietnam/Trong năm 2024, tình hình vi phạm giao thông tại Việt Nam diễn biến phức tạp với các số liệu đáng chú ý như sau.pdf', 'title': 'Trong năm 2024, tình hình vi phạm giao thông tại Việt Nam diễn biến phức tạp với các số liệu đáng chú ý như sau:', 'total_pages': 2}, page_content='S ử  d ụ ng r ượ u bia, chất kích thích có cồ n: Chiếm 4,89% số v ụ .\\nS ử  d ụ ng ma túy, chất gây nghi ệ n: Chiếm 0,18% số v ụ .\\nVi ệ c không chấp hành các quy tắc giao thông, đ ặ c bi ệ t là vi ph ạ m nồ ng đ ộ  cồ n, là nguyên'),\n",
       " Document(id='972d5f26-a3bd-4fff-bfb9-8ad8093870ca', metadata={'author': 'minh pham', 'creationdate': '2025-02-13T04:03:40+00:00', 'creator': 'Canva', 'keywords': 'DAGe9E8gS40,BAGe4X6zF2Q,0', 'moddate': '2025-02-13T04:03:40+00:00', 'page': 0, 'page_label': '1', 'producer': 'Canva', 'source': 'D:/vscode/Langchain/rag_langchain/data_source/vietnam/Trong năm 2024, tình hình vi phạm giao thông tại Việt Nam diễn biến phức tạp với các số liệu đáng chú ý như sau.pdf', 'title': 'Trong năm 2024, tình hình vi phạm giao thông tại Việt Nam diễn biến phức tạp với các số liệu đáng chú ý như sau:', 'total_pages': 2}, page_content='1. Số v ụ  tai n ạ n giao thông và h ậ u qu ả :\\nT ổ ng số v ụ  tai n ạ n: 23.484 v ụ .\\nSố ng ườ i t ử  vong: 10.944 ng ườ i.\\nSố ng ườ i b ị  th ươ ng: 17.342 ng ườ i.\\nSo v ớ i năm 2023, số v ụ  tai n ạ n tăng 0,7%, số ng ườ i chết gi ả m 7,7%, và số ng ườ i b ị  th ươ ng tăng \\n4,2%.'),\n",
       " Document(id='14348cef-328c-43b2-a171-b40f0d5d5172', metadata={'author': 'minh pham', 'creationdate': '2025-02-13T04:03:40+00:00', 'creator': 'Canva', 'keywords': 'DAGe9E8gS40,BAGe4X6zF2Q,0', 'moddate': '2025-02-13T04:03:40+00:00', 'page': 0, 'page_label': '1', 'producer': 'Canva', 'source': 'D:/vscode/Langchain/rag_langchain/data_source/vietnam/Trong năm 2024, tình hình vi phạm giao thông tại Việt Nam diễn biến phức tạp với các số liệu đáng chú ý như sau.pdf', 'title': 'Trong năm 2024, tình hình vi phạm giao thông tại Việt Nam diễn biến phức tạp với các số liệu đáng chú ý như sau:', 'total_pages': 2}, page_content='T ổ ng số v ụ  tai n ạ n: 23.484 v ụ .\\nSố ng ườ i t ử  vong: 10.944 ng ườ i.\\nSố ng ườ i b ị  th ươ ng: 17.342 ng ườ i.\\nSo v ớ i năm 2023, số v ụ  tai n ạ n tăng 0,7%, số ng ườ i chết gi ả m 7,7%, và số ng ườ i b ị  th ươ ng tăng \\n4,2%. \\n2. X ử  lý vi ph ạ m giao thông:')]"
      ]
     },
     "execution_count": 60,
     "metadata": {},
     "output_type": "execute_result"
    }
   ],
   "source": [
    "similar_docs"
   ]
  },
  {
   "cell_type": "code",
   "execution_count": 61,
   "metadata": {},
   "outputs": [
    {
     "name": "stdout",
     "output_type": "stream",
     "text": [
      "Ph ươ ng ti ệ n b ị  t ạ m gi ữ : Kho ả ng 1 tri ệ u ph ươ ng ti ệ n các lo ạ i.\n",
      "Trong đó, vi ph ạ m nồ ng đ ộ  cồ n chiếm 19,14% t ổ ng số vi ph ạ m, v ớ i 722.409 tr ườ ng h ợ p b ị  x ử  lý. \n",
      "3. Nguyên nhân chính dẫn đến tai n ạ n giao thông:\n",
      "S ử  d ụ ng r ượ u bia, chất kích thích có cồ n: Chiếm 4,89% số v ụ .\n",
      "S ử  d ụ ng ma túy, chất gây nghi ệ n: Chiếm 0,18% số v ụ .\n",
      "Vi ệ c không chấp hành các quy tắc giao thông, đ ặ c bi ệ t là vi ph ạ m nồ ng đ ộ  cồ n, là nguyên\n",
      "1. Số v ụ  tai n ạ n giao thông và h ậ u qu ả :\n",
      "T ổ ng số v ụ  tai n ạ n: 23.484 v ụ .\n",
      "Số ng ườ i t ử  vong: 10.944 ng ườ i.\n",
      "Số ng ườ i b ị  th ươ ng: 17.342 ng ườ i.\n",
      "So v ớ i năm 2023, số v ụ  tai n ạ n tăng 0,7%, số ng ườ i chết gi ả m 7,7%, và số ng ườ i b ị  th ươ ng tăng \n",
      "4,2%.\n",
      "T ổ ng số v ụ  tai n ạ n: 23.484 v ụ .\n",
      "Số ng ườ i t ử  vong: 10.944 ng ườ i.\n",
      "Số ng ườ i b ị  th ươ ng: 17.342 ng ườ i.\n",
      "So v ớ i năm 2023, số v ụ  tai n ạ n tăng 0,7%, số ng ườ i chết gi ả m 7,7%, và số ng ườ i b ị  th ươ ng tăng \n",
      "4,2%. \n",
      "2. X ử  lý vi ph ạ m giao thông:\n",
      "Thống kê vi ph ạ m giao thông trong năm 2024\n",
      "Trong năm 2024, tình hình vi ph ạ m giao thông t ạ i Vi ệ t Nam diễn biến ph ứ c t ạ p v ớ i các số li ệ u \n",
      "đáng chú ý nh ư  sau:\n",
      "1. Số v ụ  tai n ạ n giao thông và h ậ u qu ả :\n",
      "T ổ ng số v ụ  tai n ạ n: 23.484 v ụ .\n",
      "Số ng ườ i t ử  vong: 10.944 ng ườ i.\n",
      "Số ng ườ i b ị  th ươ ng: 17.342 ng ườ i.\n",
      "So v ớ i năm 2023, số v ụ  tai n ạ n tăng 0,7%, số ng ườ i chết gi ả m 7,7%, và số ng ườ i b ị  th ươ ng tăng \n",
      "4,2%.\n"
     ]
    }
   ],
   "source": [
    "similar_docs = chroma_db.similarity_search(query, k=5)\n",
    "\n",
    "# similar_docs sẽ chứa 4 tài liệu có độ tương đồng cao nhất với query\n",
    "for doc in similar_docs:\n",
    "    print(doc.page_content)"
   ]
  },
  {
   "cell_type": "code",
   "execution_count": null,
   "metadata": {},
   "outputs": [],
   "source": []
  },
  {
   "cell_type": "code",
   "execution_count": null,
   "metadata": {},
   "outputs": [],
   "source": []
  },
  {
   "cell_type": "code",
   "execution_count": null,
   "metadata": {},
   "outputs": [],
   "source": []
  },
  {
   "cell_type": "code",
   "execution_count": null,
   "metadata": {},
   "outputs": [],
   "source": []
  },
  {
   "cell_type": "code",
   "execution_count": null,
   "metadata": {},
   "outputs": [],
   "source": []
  },
  {
   "cell_type": "code",
   "execution_count": null,
   "metadata": {},
   "outputs": [],
   "source": []
  },
  {
   "cell_type": "code",
   "execution_count": null,
   "metadata": {},
   "outputs": [],
   "source": []
  },
  {
   "cell_type": "code",
   "execution_count": null,
   "metadata": {},
   "outputs": [],
   "source": []
  },
  {
   "cell_type": "code",
   "execution_count": null,
   "metadata": {},
   "outputs": [],
   "source": []
  },
  {
   "cell_type": "code",
   "execution_count": null,
   "metadata": {},
   "outputs": [],
   "source": []
  },
  {
   "cell_type": "code",
   "execution_count": null,
   "metadata": {},
   "outputs": [],
   "source": []
  }
 ],
 "metadata": {
  "kernelspec": {
   "display_name": "env",
   "language": "python",
   "name": "python3"
  },
  "language_info": {
   "codemirror_mode": {
    "name": "ipython",
    "version": 3
   },
   "file_extension": ".py",
   "mimetype": "text/x-python",
   "name": "python",
   "nbconvert_exporter": "python",
   "pygments_lexer": "ipython3",
   "version": "3.13.2"
  }
 },
 "nbformat": 4,
 "nbformat_minor": 2
}
