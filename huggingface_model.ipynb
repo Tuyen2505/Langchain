{
 "cells": [
  {
   "cell_type": "code",
   "execution_count": 1,
   "metadata": {},
   "outputs": [
    {
     "ename": "ModuleNotFoundError",
     "evalue": "No module named 'torch'",
     "output_type": "error",
     "traceback": [
      "\u001b[1;31m---------------------------------------------------------------------------\u001b[0m",
      "\u001b[1;31mModuleNotFoundError\u001b[0m                       Traceback (most recent call last)",
      "Cell \u001b[1;32mIn[1], line 1\u001b[0m\n\u001b[1;32m----> 1\u001b[0m \u001b[38;5;28;01mimport\u001b[39;00m\u001b[38;5;250m \u001b[39m\u001b[38;5;21;01mtorch\u001b[39;00m\n\u001b[0;32m      2\u001b[0m \u001b[38;5;28;01mfrom\u001b[39;00m\u001b[38;5;250m \u001b[39m\u001b[38;5;21;01mtransformers\u001b[39;00m\u001b[38;5;250m \u001b[39m\u001b[38;5;28;01mimport\u001b[39;00m BitsAndBytesConfig\n\u001b[0;32m      3\u001b[0m \u001b[38;5;28;01mfrom\u001b[39;00m\u001b[38;5;250m \u001b[39m\u001b[38;5;21;01mtransformers\u001b[39;00m\u001b[38;5;250m \u001b[39m\u001b[38;5;28;01mimport\u001b[39;00m AutoTokenizer, AutoModelForCausalLM, pipeline\n",
      "\u001b[1;31mModuleNotFoundError\u001b[0m: No module named 'torch'"
     ]
    }
   ],
   "source": [
    "import torch\n",
    "from transformers import BitsAndBytesConfig\n",
    "from transformers import AutoTokenizer, AutoModelForCausalLM, pipeline\n",
    "from langchain.llms.huggingface_pipeline import HuggingFacePipeline"
   ]
  },
  {
   "cell_type": "code",
   "execution_count": 2,
   "metadata": {},
   "outputs": [
    {
     "name": "stderr",
     "output_type": "stream",
     "text": [
      "Loading checkpoint shards: 100%|██████████| 2/2 [00:21<00:00, 10.61s/it]\n"
     ]
    }
   ],
   "source": [
    "model_name: str = \"microsoft/phi-2\"  \n",
    "\n",
    "nf4_config = BitsAndBytesConfig(\n",
    "    load_in_4bit = True,\n",
    "    bnb_4bit_quant_type = \"nf4\",\n",
    "    bnb_4bit_use_double_quant = True,\n",
    "    bnb_4bit_compute_dtype = torch.bfloat16\n",
    ")\n",
    "\n",
    "model = AutoModelForCausalLM.from_pretrained(\n",
    "    model_name,\n",
    "    quantization_config = nf4_config,\n",
    "    low_cpu_mem_usage = True\n",
    ")"
   ]
  },
  {
   "cell_type": "code",
   "execution_count": 5,
   "metadata": {},
   "outputs": [],
   "source": [
    "tokenizer = AutoTokenizer.from_pretrained(model_name)\n",
    "max_new_token = 1024\n",
    "\n",
    "model_pipeline = pipeline(\n",
    "    \"text-generation\",\n",
    "    model=model,\n",
    "    tokenizer=tokenizer,\n",
    "    max_new_tokens=max_new_token,\n",
    "    pad_token_id = tokenizer.eos_token_id\n",
    ")"
   ]
  },
  {
   "cell_type": "code",
   "execution_count": 6,
   "metadata": {},
   "outputs": [
    {
     "name": "stderr",
     "output_type": "stream",
     "text": [
      "C:\\Users\\FPT Shop\\AppData\\Local\\Temp\\ipykernel_16800\\680517590.py:5: LangChainDeprecationWarning: The class `HuggingFacePipeline` was deprecated in LangChain 0.0.37 and will be removed in 1.0. An updated version of the class exists in the langchain-huggingface package and should be used instead. To use it run `pip install -U langchain-huggingface` and import as `from langchain_huggingface import HuggingFacePipeline`.\n",
      "  llm = HuggingFacePipeline(pipeline = model_pipeline, model_kwargs = gen_kwargs)\n"
     ]
    }
   ],
   "source": [
    "gen_kwargs = {\n",
    "    \"temperature\": 0.6\n",
    "}\n",
    "\n",
    "llm = HuggingFacePipeline(pipeline = model_pipeline, model_kwargs = gen_kwargs) "
   ]
  },
  {
   "cell_type": "code",
   "execution_count": 9,
   "metadata": {},
   "outputs": [
    {
     "data": {
      "text/plain": [
       "'what day is today\")\\n    print(f\"{today} is a {day_of_week}\")\\n    print(f\"{today} is a {day_of_week_ordinal}\")\\n    print(f\"{today} is a {day_of_week_ordinal_ordinal}\")\\n    print(f\"{today} is a {day_of_week_ordinal_ordinal_ordinal}\")\\n    print(f\"{today} is a {day_of_week_ordinal_ordinal_ordinal_ordinal}\")\\n    print(f\"{today} is a {day_of_week_ordinal_ordinal_ordinal_ordinal_ordinal}\")\\n    print(f\"{today} is a {day_of_week_ordinal_ordinal_ordinal_ordinal_ordinal_ordinal}\")\\n    print(f\"{today} is a {day_of_week_ordinal_ordinal_ordinal_ordinal_ordinal_ordinal_ordinal}\")\\n    print(f\"{today} is a {day_of_week_ordinal_ordinal_ordinal_ordinal_ordinal_ordinal_ordinal_ordinal}\")\\n    print(f\"{today} is a {day_of_week_ordinal_ordinal_ordinal_ordinal_ordinal_ordinal_ordinal_ordinal_ordinal}\")\\n    print(f\"{today} is a {day_of_week_ordinal_ordinal_ordinal_ordinal_ordinal_ordinal_ordinal_ordinal_ordinal_ordinal}\")\\n    print(f\"{today} is a {day_of_week_ordinal_ordinal_ordinal_ordinal_ordinal_ordinal_ordinal_ordinal_ordinal_ordinal_ordinal}\")\\n    print(f\"{today} is a {day_of_week_ordinal_ordinal_ordinal_ordinal_ordinal_ordinal_ordinal_ordinal_ordinal_ordinal_ordinal_ordinal}\")\\n    print(f\"{today} is a {day_of_week_ordinal_ordinal_ordinal_ordinal_ordinal_ordinal_ordinal_ordinal_ordinal_ordinal_ordinal_ordinal_ordinal}\")\\n    print(f\"{today} is a {day_of_week_ordinal_ordinal_ordinal_ordinal_ordinal_ordinal_ordinal_ordinal_ordinal_ordinal_ordinal_ordinal_ordinal_ordinal}\")\\n    print(f\"{today} is a {day_of_week_ordinal_ordinal_ordinal_ordinal_ordinal_ordinal_ordinal_ordinal_ordinal_ordinal_ordinal_ordinal_ordinal_ordinal_ordinal}\")\\n    print(f\"{today} is a {day_of_week_ordinal_ordinal_ordinal_ordinal_ordinal_ordinal_ordinal_ordinal_ordinal_ordinal_ordinal_ordinal_ordinal_ordinal_ordinal}\")\\n    print(f\"{today} is a {day_of_week_ordinal_ordinal_ordinal_ordinal_ordinal_ordinal_ordinal_ordinal_ordinal_ordinal_ordinal_ordinal_ordinal_ordinal_ordinal}\")\\n    print(f\"{today} is a {day_of_week_ordinal_ordinal_ordinal_ordinal_ordinal_ordinal_ordinal_ordinal_ordinal_ordinal_ordinal_ordinal_ordinal_ordinal_ordinal}\")\\n    print(f\"{today} is a {day_of_week_ordinal_ordinal_ordinal_ordinal_ordinal_ordinal_ordinal_ordinal_ordinal_ordinal_ordinal_ordinal_ordinal_ordinal_ordinal}\")\\n    print(f\"{today} is a {day_of_week_ordinal_ordinal_ordinal_ordinal_ordinal_ordinal_ordinal_ordinal_ordinal_ordinal_ordinal_ordinal_ordinal_ordinal_ordinal}\")\\n    print(f\"{today} is a {day_of_week_ordinal_ordinal_ordinal_ordinal_ordinal_ordinal_ordinal_'"
      ]
     },
     "execution_count": 9,
     "metadata": {},
     "output_type": "execute_result"
    }
   ],
   "source": [
    "llm.invoke(\"what day is today\")"
   ]
  },
  {
   "cell_type": "markdown",
   "metadata": {},
   "source": [
    "1.PromptTemplate\n"
   ]
  },
  {
   "cell_type": "code",
   "execution_count": 11,
   "metadata": {},
   "outputs": [],
   "source": [
    "from langchain_core.prompts import PromptTemplate\n",
    "\n",
    "prompt_template = PromptTemplate.from_template(\n",
    "    \"\"\"Instruct: {prompt}\\nOutput:\"\"\"\n",
    ")\n",
    "\n",
    "user_prompt = \"Write a detailed analogy between mathematics and a lighthouse.\"\n",
    "messages = prompt_template.format(prompt=user_prompt)"
   ]
  },
  {
   "cell_type": "code",
   "execution_count": 13,
   "metadata": {},
   "outputs": [
    {
     "name": "stdout",
     "output_type": "stream",
     "text": [
      "Instruct: Write a detailed analogy between mathematics and a lighthouse.\n",
      "Output: Mathematics is to logic as a lighthouse is to navigation.\n",
      "\n"
     ]
    }
   ],
   "source": [
    "output = llm.invoke(messages)\n",
    "print(output)"
   ]
  },
  {
   "cell_type": "markdown",
   "metadata": {},
   "source": [
    "2.Chatprompt template\n"
   ]
  },
  {
   "cell_type": "code",
   "execution_count": 14,
   "metadata": {},
   "outputs": [],
   "source": [
    "from langchain_core.prompts import  ChatPromptTemplate"
   ]
  },
  {
   "cell_type": "code",
   "execution_count": 23,
   "metadata": {},
   "outputs": [],
   "source": [
    "messages = [\n",
    "    (\"system\", \"You are a helpful AI bot.Your name is {bot_name}.\"),\n",
    "    (\"user\", \"Hi!\"),\n",
    "    (\"assistant\", \"Hello! How can I help you today?\"),\n",
    "    (\"user\", \"{user_input}\"),\n",
    "]"
   ]
  },
  {
   "cell_type": "code",
   "execution_count": 24,
   "metadata": {},
   "outputs": [],
   "source": [
    "chat_template = ChatPromptTemplate.from_messages(messages)"
   ]
  },
  {
   "cell_type": "code",
   "execution_count": 27,
   "metadata": {},
   "outputs": [],
   "source": [
    "messages = chat_template.format_messages(\n",
    "    bot_name = \"Halo\",\n",
    "    user_input = \"What is the weather like today?\"\n",
    ")"
   ]
  },
  {
   "cell_type": "code",
   "execution_count": 29,
   "metadata": {},
   "outputs": [
    {
     "name": "stdout",
     "output_type": "stream",
     "text": [
      "<class 'list'>\n"
     ]
    }
   ],
   "source": [
    "print(type(messages))"
   ]
  },
  {
   "cell_type": "code",
   "execution_count": 30,
   "metadata": {},
   "outputs": [
    {
     "name": "stdout",
     "output_type": "stream",
     "text": [
      "System: You are a helpful AI bot.Your name is Halo.\n",
      "Human: Hi!\n",
      "AI: Hello! How can I help you today?\n",
      "Human: What is the weather like today?\n",
      "AI: The weather today is sunny with a high of 75 degrees Fahrenheit. Would you like to know more about the weather forecast?\n",
      "\n"
     ]
    }
   ],
   "source": [
    "output = llm.invoke(messages)\n",
    "print(output)"
   ]
  },
  {
   "cell_type": "markdown",
   "metadata": {},
   "source": [
    "chain"
   ]
  },
  {
   "cell_type": "code",
   "execution_count": 41,
   "metadata": {},
   "outputs": [
    {
     "name": "stdout",
     "output_type": "stream",
     "text": [
      "Instruct: Hi\n",
      "Output: Hi there, how are you doing today?\n",
      "\n"
     ]
    }
   ],
   "source": [
    "prompt = PromptTemplate.from_template(\n",
    "    \"\"\"Instruct: {prompt}\\nOutput:\"\"\"   \n",
    ")\n",
    "\n",
    "# Define a chain\n",
    "chain = prompt | llm\n",
    "\n",
    "output = chain.invoke(\n",
    "    {\n",
    "        \"prompt\": \"Hi\",\n",
    "    }\n",
    ")\n",
    "\n",
    "print(output)"
   ]
  },
  {
   "cell_type": "code",
   "execution_count": null,
   "metadata": {},
   "outputs": [],
   "source": []
  }
 ],
 "metadata": {
  "kernelspec": {
   "display_name": "env",
   "language": "python",
   "name": "python3"
  },
  "language_info": {
   "codemirror_mode": {
    "name": "ipython",
    "version": 3
   },
   "file_extension": ".py",
   "mimetype": "text/x-python",
   "name": "python",
   "nbconvert_exporter": "python",
   "pygments_lexer": "ipython3",
   "version": "3.13.2"
  }
 },
 "nbformat": 4,
 "nbformat_minor": 2
}
